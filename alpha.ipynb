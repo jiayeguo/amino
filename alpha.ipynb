{
 "cells": [
  {
   "cell_type": "code",
   "execution_count": 22,
   "metadata": {},
   "outputs": [],
   "source": [
    "# Returns array of atom numbers for alpha carbons in protein from a .gro file\n",
    "\n",
    "def alpha_carbons(gro_file):\n",
    "    \n",
    "    f = open(gro_file, \"r\")\n",
    "    alpha_carbons = []\n",
    "    \n",
    "    # Reads title string and number of atoms and ignores them\n",
    "    f.readline()\n",
    "    f.readline()\n",
    "    \n",
    "    # Iterates through each line corresponding to an atom\n",
    "    for i in f:\n",
    "        \n",
    "        comps = i.split()\n",
    "        \n",
    "        # Checks if atom is an alpha carbon\n",
    "        if comps[1] == \"CA\":\n",
    "            alpha_carbons.append(int(comps[2]))\n",
    "            \n",
    "    f.close()            \n",
    "    return alpha_carbons\n"
   ]
  },
  {
   "cell_type": "code",
   "execution_count": 29,
   "metadata": {},
   "outputs": [
    {
     "name": "stdout",
     "output_type": "stream",
     "text": [
      "[5, 22, 36, 48, 59, 72, 84, 98, 119, 131, 153, 177, 192, 209, 224, 248, 262, 274, 293, 307, 324, 346, 363, 385, 404, 411, 418, 425, 442, 463, 470, 485, 501, 522, 537, 544, 560, 584, 606, 628, 649, 660, 679, 693, 709, 719, 735, 757, 771, 790, 812, 827, 839, 853, 870, 885, 901, 916, 931, 951, 970, 992, 1007, 1017, 1027, 1043, 1060, 1082, 1097, 1116, 1138, 1157, 1169, 1183, 1202, 1218, 1235, 1254, 1273, 1280, 1296, 1307, 1321, 1345, 1362, 1376, 1388, 1408, 1429, 1448, 1467, 1481, 1496, 1516, 1533, 1547, 1568, 1575, 1589, 1608, 1627, 1639, 1660, 1679, 1703, 1718, 1729, 1743, 1767, 1784, 1799, 1815, 1826, 1836, 1852, 1868, 1887, 1906, 1927, 1944, 1954, 1968, 1985, 2004, 2015, 2026, 2036, 2053, 2068, 2089, 2108, 2123, 2145, 2167, 2181, 2201, 2220, 2237, 2261, 2273, 2292, 2302, 2312, 2336, 2350, 2361, 2380, 2396, 2403, 2418, 2432, 2449, 2468, 2484, 2506, 2522, 2532, 2544, 2564, 2571, 2590, 2601, 2625, 2644, 2661, 2675, 2682, 2694, 2708, 2729, 2743, 2753, 2770, 2780, 2787, 2797, 2819, 2841, 2853, 2872, 2894, 2918, 2932, 2944, 2956, 2971, 2982, 3001, 3011, 3032, 3046, 3068, 3088, 3099, 3118, 3140, 3151, 3163, 3179, 3203, 3213, 3233, 3240, 3256, 3275, 3294, 3318, 3333, 3352, 3362, 3376, 3397, 3404, 3421, 3434, 3446, 3469, 3481, 3488, 3507, 3519, 3538, 3549, 3566, 3582, 3603, 3618, 3637, 3656, 3671, 3693, 3705, 3726, 3750, 3767, 3782, 3808, 3820, 3835, 3842, 3855, 3867, 3882, 3904, 3920, 3941, 3956, 3975, 3992, 4016, 4026, 4037, 4061, 4078, 4102, 4118, 4130, 4141, 4153, 4179, 4191, 4202, 4222, 4232, 4247, 4266, 4283, 4300, 4310, 4330, 4345, 4359, 4376, 4396]\n"
     ]
    }
   ],
   "source": [
    "alpha = alpha_carbons(\"npt.gro\")\n",
    "print(alpha)\n",
    "f = open(\"alphas.txt\", \"w\")\n",
    "for i in alpha:\n",
    "    f.write(str(i) + \"\\n\")"
   ]
  }
 ],
 "metadata": {
  "kernelspec": {
   "display_name": "Python 3",
   "language": "python",
   "name": "python3"
  },
  "language_info": {
   "codemirror_mode": {
    "name": "ipython",
    "version": 3
   },
   "file_extension": ".py",
   "mimetype": "text/x-python",
   "name": "python",
   "nbconvert_exporter": "python",
   "pygments_lexer": "ipython3",
   "version": "3.7.1"
  }
 },
 "nbformat": 4,
 "nbformat_minor": 2
}
