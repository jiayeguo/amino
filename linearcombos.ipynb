{
 "cells": [
  {
   "cell_type": "code",
   "execution_count": 22,
   "metadata": {},
   "outputs": [],
   "source": [
    "import subprocess\n",
    "import numpy as np\n",
    "import matplotlib.pyplot as plt\n",
    "import random\n",
    "import copy"
   ]
  },
  {
   "cell_type": "code",
   "execution_count": 3,
   "metadata": {},
   "outputs": [],
   "source": [
    "class OrderParameter:\n",
    "\n",
    "    def __init__(self, i, j, traj):\n",
    "        self.i = i\n",
    "        self.j = j\n",
    "        self.traj = traj\n",
    "        \n",
    "    def __str__(self):\n",
    "        return str(self.i)"
   ]
  },
  {
   "cell_type": "code",
   "execution_count": 48,
   "metadata": {},
   "outputs": [],
   "source": [
    "class SimilarityMatrix:\n",
    "\n",
    "    def __init__(self, max_OPs):\n",
    "        self.max_OPs = max_OPs\n",
    "        self.matrix = [[] for i in range(max_OPs)]\n",
    "        self.OPs = []\n",
    "\n",
    "    def add_OP(self, OP):\n",
    "        if len(self.OPs) == self.max_OPs:\n",
    "            mut_info = []\n",
    "            existing = []\n",
    "            for i in range(len(self.OPs)):\n",
    "                mut_info.append(mutual_info(self.OPs[i].traj, OP.traj))\n",
    "                product = 1\n",
    "                for j in range(len(self.OPs)):\n",
    "                    if not i == j:\n",
    "                        product = product * self.matrix[i][j]\n",
    "                existing.append(product)\n",
    "            update = False\n",
    "            difference = None\n",
    "            for i in range(len(self.OPs)):\n",
    "                candidate_info = 1\n",
    "                for j in range(len(self.OPs)):\n",
    "                    if not i == j:\n",
    "                        candidate_info = candidate_info * mut_info[j]\n",
    "                if candidate_info > existing[i]:\n",
    "                    update = True\n",
    "                    if difference == None:\n",
    "                        difference = candidate_info - existing[i]\n",
    "                        old_OP = i\n",
    "                    else:\n",
    "                        if (candidate_info - existing[i]) > difference:\n",
    "                            difference = candidate_info - existing[i]\n",
    "                            old_OP = i\n",
    "            if update == True:\n",
    "                mut_info[old_OP] = mutual_info(OP.traj, OP.traj)\n",
    "                self.matrix[old_OP] = mut_info\n",
    "                self.OPs[old_OP] = OP\n",
    "                for i in range(len(self.OPs)):\n",
    "                    self.matrix[i][old_OP] = mut_info[i]\n",
    "        else:\n",
    "            for i in range(len(self.OPs)):\n",
    "                mut_info = mutual_info(OP.traj, self.OPs[i].traj)\n",
    "                self.matrix[i].append(mut_info)\n",
    "                self.matrix[len(self.OPs)].append(mut_info)\n",
    "            self.matrix[len(self.OPs)].append(mutual_info(OP.traj, OP.traj))\n",
    "            self.OPs.append(OP)\n",
    "        \n",
    "    def reduce(self):\n",
    "        min_val = 10\n",
    "        index = -1\n",
    "        for i in range(len(self.matrix)):\n",
    "            product = 1\n",
    "            for j in range(len(self.matrix[i])):\n",
    "                if not i == j:\n",
    "                    product = product * self.matrix[i][j]\n",
    "            if product < min_val:\n",
    "                index = i\n",
    "                min_val = product\n",
    "        self.matrix.pop(index)\n",
    "        for i in range(len(self.matrix)):\n",
    "            self.matrix[i].pop(index)\n",
    "        self.OPs.pop(index)\n",
    "        \n",
    "    def min_product(self):\n",
    "        min_val = 10\n",
    "        for i in range(len(self.matrix)):\n",
    "            product = 1\n",
    "            for j in range(len(self.matrix[i])):\n",
    "                if not i == j:\n",
    "                    product = product * self.matrix[i][j]\n",
    "            if product < min_val:\n",
    "                min_val = product\n",
    "        return min_val\n",
    "    \n",
    "    def get_OPs(self):\n",
    "        return self.OPs\n",
    "    \n",
    "    def __str__(self):\n",
    "        output = \"\"\n",
    "        output = output + \"OPs:\\n\"\n",
    "        for i in self.OPs:\n",
    "            output = output + str(i) + \"\\n\"\n",
    "        output = output + \"\\nMatrix:\\n\"\n",
    "        for i in self.matrix:\n",
    "            for j in i:\n",
    "                output = output + str(j) + \" \"\n",
    "            output = output + \"\\n\"\n",
    "        return output\n",
    "                "
   ]
  },
  {
   "cell_type": "code",
   "execution_count": 5,
   "metadata": {},
   "outputs": [],
   "source": [
    "# Binning values of one order parameter to create a 1 dimensional probability space\n",
    "def d1_bin(x, bins = 80):\n",
    "\n",
    "    min_val = np.amin(x)\n",
    "    max_val = np.amax(x)\n",
    "    span = max_val - min_val\n",
    "\n",
    "    p_x = [0.0 for i in range(bins)]\n",
    "\n",
    "    for i in x:\n",
    "        bin_num = (int) (bins * (i - min_val) / span)\n",
    "        if bin_num == bins:\n",
    "            bin_num -= 1\n",
    "        p_x[bin_num] += 1.0 / len(x)\n",
    "\n",
    "    return p_x"
   ]
  },
  {
   "cell_type": "code",
   "execution_count": 6,
   "metadata": {},
   "outputs": [],
   "source": [
    "# Binning valus of two order parameters to create a 2 dimensional probability space\n",
    "def d2_bin(x, y, bins = 80):\n",
    "\n",
    "    if len(x) != len(y):\n",
    "        raise Exception(\"Order parameter lists are of different size.\")\n",
    "\n",
    "    min_x = np.amin(x)\n",
    "    max_x = np.amax(x)\n",
    "    span_x = max_x - min_x\n",
    "\n",
    "    min_y = np.amin(y)\n",
    "    max_y = np.amax(y)\n",
    "    span_y = max_y - min_y\n",
    "\n",
    "    p_xy = [[0.0 for i in range(bins)] for j in range(bins)]\n",
    "\n",
    "    for i in range(len(x)):\n",
    "        bin_x = (int) (bins * (x[i] - min_x) / span_x)\n",
    "        bin_y = (int) (bins * (y[i] - min_y) / span_y)\n",
    "        if bin_x == bins:\n",
    "            bin_x -= 1\n",
    "        if bin_y == bins:\n",
    "            bin_y -= 1\n",
    "        p_xy[bin_x][bin_y] += 1.0 / len(x)\n",
    "\n",
    "    return p_xy"
   ]
  },
  {
   "cell_type": "code",
   "execution_count": 7,
   "metadata": {},
   "outputs": [],
   "source": [
    "# Calculates normalized mutual information of two order parameters\n",
    "def mutual_info(x, y, bins = 80):\n",
    "\n",
    "    p_x = d1_bin(x, bins)\n",
    "    p_y = d1_bin(y, bins)\n",
    "    p_xy = d2_bin(x, y, bins)\n",
    "\n",
    "    info = 0\n",
    "    entropy = 0\n",
    "\n",
    "    for i in range(len(p_x)):\n",
    "        for j in range(len(p_y)):\n",
    "            if p_xy[i][j] != 0:\n",
    "                entropy -= p_xy[i][j] * np.log(p_xy[i][j])\n",
    "                info += p_xy[i][j] * np.log(p_xy[i][j] / (p_x[i] * p_y[j]))\n",
    "\n",
    "    if ((1 - (info / entropy)) < 0):\n",
    "        return 0.0\n",
    "    else:\n",
    "        return (1 - (info / entropy))"
   ]
  },
  {
   "cell_type": "code",
   "execution_count": 8,
   "metadata": {},
   "outputs": [],
   "source": [
    "# Finds the number of local maxima in a noisy probability distribution\n",
    "def find_wells(prob):\n",
    "\n",
    "    energy = []\n",
    "    for i in (range(len(prob))):\n",
    "        if prob[i] == 0:\n",
    "            energy.append(np.inf)\n",
    "        else:\n",
    "            energy.append(-1 * np.log(prob[i]))\n",
    "\n",
    "    wells = 0\n",
    "    max = np.inf\n",
    "    min = np.inf\n",
    "    d = 1\n",
    "    i = 0\n",
    "    for x in energy:\n",
    "        if x > max:\n",
    "            max = x\n",
    "            if (max - min > 1):\n",
    "                min = x\n",
    "                d = 1\n",
    "        elif x < min:\n",
    "            min = x\n",
    "            if (max - min > 1):\n",
    "                if d == 1:\n",
    "                    wells = wells + 1\n",
    "                max = x\n",
    "                d = -1\n",
    "        i = i + 1\n",
    "\n",
    "    return wells"
   ]
  },
  {
   "cell_type": "code",
   "execution_count": 59,
   "metadata": {},
   "outputs": [],
   "source": [
    "def print_matrix(matrix):\n",
    "    string = \"\"\n",
    "    for i in range(len(matrix)):\n",
    "        for j in range(len(matrix[i])):\n",
    "            string = string + str(round(matrix[i][j], 5)) + \" \"\n",
    "        string = string + \"\\n\"\n",
    "    print(string)"
   ]
  },
  {
   "cell_type": "code",
   "execution_count": 11,
   "metadata": {},
   "outputs": [],
   "source": [
    "def initial_guess(wells, num_ops, data_array):\n",
    "    \n",
    "    x = [-1 for i in range(num_ops)]\n",
    "    finished = [1 for i in range(num_ops)]\n",
    "    rc = x\n",
    "    max_val = 0\n",
    "    sgoop.wells = wells\n",
    "    \n",
    "    while not x == finished:\n",
    "        \n",
    "        tmp = sgoop.rc_eval(x, data_array)\n",
    "        if tmp > max_val:\n",
    "            max_val = tmp\n",
    "            rc = x.copy()\n",
    "            \n",
    "        for i in range(num_ops):\n",
    "            if x[num_ops - 1 - i] == -1:\n",
    "                x[num_ops - 1 - i] = 1\n",
    "                break;\n",
    "            else:\n",
    "                x[num_ops - 1 - i] = -1\n",
    "                \n",
    "    tmp = sgoop.rc_eval(x, data_array)\n",
    "    if tmp > max_val:\n",
    "        max_val = tmp\n",
    "        rc = x.copy()\n",
    "        \n",
    "    return rc"
   ]
  },
  {
   "cell_type": "code",
   "execution_count": 12,
   "metadata": {},
   "outputs": [],
   "source": [
    "# Generating random numbers\n",
    "x = []\n",
    "x2 = []\n",
    "x4 = []\n",
    "x5 = []\n",
    "xm1 = []\n",
    "xm4 = []\n",
    "y = []\n",
    "y2 = []\n",
    "y4 = []\n",
    "y5 = []\n",
    "ym1 = []\n",
    "ym4 = []\n",
    "z = []\n",
    "w = []\n",
    "a = []\n",
    "a2 = []\n",
    "a3 = []\n",
    "am1 = []\n",
    "am2 = []\n",
    "am3 = []\n",
    "b = []\n",
    "b2 = []\n",
    "b3 = []\n",
    "bm1 = []\n",
    "bm2 = []\n",
    "bm3 = []\n",
    "c = []\n",
    "d = []\n",
    "e = []\n",
    "f = []\n",
    "for i in range(50000):\n",
    "    tmp1 = random.random()\n",
    "    tmp1 = 1 - (tmp1 * tmp1 * tmp1 * tmp1)\n",
    "    if random.random() < 0.5:\n",
    "        tmp1 = -1 * tmp1\n",
    "    tmp2 = random.random()\n",
    "    tmp2 = (tmp2 * tmp2 * tmp2 * tmp2)/2\n",
    "    if random.random() < 0.5:\n",
    "        tmp2 = 1 - tmp2\n",
    "    if random.random() < 0.5:\n",
    "        tmp2 = -1 * tmp2\n",
    "    tmp3 = random.random()\n",
    "    tmp3 = 1 - (tmp3 * tmp3 * tmp3 * tmp3)\n",
    "    if random.random() < 0.5:\n",
    "        tmp3 = -1 * tmp3\n",
    "    tmp4 = random.random()\n",
    "    tmp4 = 1 - (tmp4 * tmp4 * tmp4 * tmp4)\n",
    "    if random.random() < 0.5:\n",
    "        tmp4 = -1 * tmp4\n",
    "    tmp5 = random.random()\n",
    "    tmp5 = 1 - (tmp5 * tmp5 * tmp5)\n",
    "    if random.random() < 0.5:\n",
    "        tmp5 = -1 * tmp5\n",
    "    x.append(tmp1)\n",
    "    x2.append(tmp1 * 2)\n",
    "    x4.append(tmp1 * 4)\n",
    "    x5.append(tmp1 * 5)\n",
    "    xm1.append(tmp1 * (-1))\n",
    "    xm4.append(tmp1 * (-4))\n",
    "    y.append(tmp2)\n",
    "    y2.append(tmp2 * 2)\n",
    "    y4.append(tmp2 * 4)\n",
    "    y5.append(tmp2 * 5)\n",
    "    ym1.append(tmp2 * (-1))\n",
    "    ym4.append(tmp2 * (-4))\n",
    "    z.append(tmp3)\n",
    "    w.append(5 * tmp1 + tmp2)\n",
    "    a.append(tmp4)\n",
    "    a2.append(tmp4 * 2)\n",
    "    a3.append(tmp4 * 3)\n",
    "    am1.append(tmp4 * (-1))\n",
    "    am2.append(tmp4 * (-2))\n",
    "    am3.append(tmp4 * (-3))\n",
    "    b.append(tmp5)\n",
    "    b2.append(tmp5 * 2)\n",
    "    b3.append(tmp5 * 3)\n",
    "    bm1.append(tmp5 * (-1))\n",
    "    bm2.append(tmp5 * (-2))\n",
    "    bm3.append(tmp5 * (-3))\n",
    "    c.append(4 * tmp2 + tmp5)\n",
    "    d.append(tmp3 + 5 * tmp4)\n",
    "    e.append(tmp3 + tmp4 + 4 * tmp5)\n",
    "    f.append(10 * tmp1 + tmp2 + tmp3 + tmp4 + tmp5)"
   ]
  },
  {
   "cell_type": "code",
   "execution_count": 13,
   "metadata": {
    "scrolled": false
   },
   "outputs": [
    {
     "data": {
      "image/png": "[encoded data removed]",
      "text/plain": [
       "<Figure size 432x288 with 1 Axes>"
      ]
     },
     "metadata": {
      "needs_background": "light"
     },
     "output_type": "display_data"
    },
    {
     "data": {
      "image/png": "[encoded data removed]",
      "text/plain": [
       "<Figure size 432x288 with 1 Axes>"
      ]
     },
     "metadata": {
      "needs_background": "light"
     },
     "output_type": "display_data"
    },
    {
     "data": {
      "image/png": "[encoded data removed]",
      "text/plain": [
       "<Figure size 432x288 with 1 Axes>"
      ]
     },
     "metadata": {
      "needs_background": "light"
     },
     "output_type": "display_data"
    },
    {
     "data": {
      "image/png": "[encoded data removed]",
      "text/plain": [
       "<Figure size 432x288 with 1 Axes>"
      ]
     },
     "metadata": {
      "needs_background": "light"
     },
     "output_type": "display_data"
    },
    {
     "data": {
      "image/png": "[encoded data removed]",
      "text/plain": [
       "<Figure size 432x288 with 1 Axes>"
      ]
     },
     "metadata": {
      "needs_background": "light"
     },
     "output_type": "display_data"
    },
    {
     "data": {
      "image/png": "[encoded data removed]",
      "text/plain": [
       "<Figure size 432x288 with 1 Axes>"
      ]
     },
     "metadata": {
      "needs_background": "light"
     },
     "output_type": "display_data"
    },
    {
     "data": {
      "image/png": "[encoded data removed]",
      "text/plain": [
       "<Figure size 432x288 with 1 Axes>"
      ]
     },
     "metadata": {
      "needs_background": "light"
     },
     "output_type": "display_data"
    },
    {
     "data": {
      "image/png": "[encoded data removed]",
      "text/plain": [
       "<Figure size 432x288 with 1 Axes>"
      ]
     },
     "metadata": {
      "needs_background": "light"
     },
     "output_type": "display_data"
    },
    {
     "data": {
      "image/png": "[encoded data removed]",
      "text/plain": [
       "<Figure size 432x288 with 1 Axes>"
      ]
     },
     "metadata": {
      "needs_background": "light"
     },
     "output_type": "display_data"
    },
    {
     "data": {
      "image/png": "[encoded data removed]",
      "text/plain": [
       "<Figure size 432x288 with 1 Axes>"
      ]
     },
     "metadata": {
      "needs_background": "light"
     },
     "output_type": "display_data"
    }
   ],
   "source": [
    "# Graphing stuff to make sure it's right\n",
    "plt.hist(x, bins=20)\n",
    "plt.title(\"Frequency Histogram of X\")\n",
    "plt.xlabel(\"X\")\n",
    "plt.ylabel(\"Frequency\")\n",
    "plt.show()\n",
    "plt.hist(y, bins=20)\n",
    "plt.title(\"Frequency Histogram of Y\")\n",
    "plt.xlabel(\"Y\")\n",
    "plt.ylabel(\"Frequency\")\n",
    "plt.show()\n",
    "plt.hist(z, bins=20)\n",
    "plt.title(\"Frequency Histogram of Z\")\n",
    "plt.xlabel(\"Z\")\n",
    "plt.ylabel(\"Frequency\")\n",
    "plt.show()\n",
    "plt.hist(w, bins=20)\n",
    "plt.title(\"Frequency Histogram of W\")\n",
    "plt.xlabel(\"W\")\n",
    "plt.ylabel(\"Frequency\")\n",
    "plt.show()\n",
    "plt.scatter(x, y)\n",
    "plt.title(\"Scatter Plot of X vs. Y\")\n",
    "plt.xlabel(\"X\")\n",
    "plt.ylabel(\"Y\")\n",
    "plt.show()\n",
    "plt.scatter(x, z)\n",
    "plt.title(\"Scatter Plot of X vs. Z\")\n",
    "plt.xlabel(\"X\")\n",
    "plt.ylabel(\"Z\")\n",
    "plt.show()\n",
    "plt.scatter(x, w)\n",
    "plt.title(\"Scatter Plot of X vs. W\")\n",
    "plt.xlabel(\"X\")\n",
    "plt.ylabel(\"W\")\n",
    "plt.show()\n",
    "plt.scatter(y, w)\n",
    "plt.title(\"Scatter Plot of Y vs. W\")\n",
    "plt.xlabel(\"Y\")\n",
    "plt.ylabel(\"W\")\n",
    "plt.show()\n",
    "plt.scatter(z, w)\n",
    "plt.title(\"Scatter Plot of Z vs. W\")\n",
    "plt.xlabel(\"Z\")\n",
    "plt.ylabel(\"W\")\n",
    "plt.show()\n",
    "plt.scatter(y, ym1)\n",
    "plt.title(\"Scatter Plot of Y vs. -Y\")\n",
    "plt.xlabel(\"Y\")\n",
    "plt.ylabel(\"-Y\")\n",
    "plt.show()"
   ]
  },
  {
   "cell_type": "code",
   "execution_count": 14,
   "metadata": {},
   "outputs": [
    {
     "name": "stdout",
     "output_type": "stream",
     "text": [
      "X has 2 wells\n",
      "Y has 3 wells\n",
      "W has 2 wells\n",
      "C has 2 wells\n",
      "D has 2 wells\n",
      "E has 2 wells\n",
      "F has 2 wells\n",
      "X and Y: 0.9900017456994733\n",
      "X and W: 0.6867580057953896\n",
      "Y and W: 0.892033287748334\n",
      "X and 4X: 0.0\n",
      "X and -4X: 0.0\n",
      "X and X: 0.0\n"
     ]
    }
   ],
   "source": [
    "# Finding number of wells and mutual info\n",
    "print(\"X has \" + str(find_wells(d1_bin(x, bins=20))) + \" wells\")\n",
    "print(\"Y has \" + str(find_wells(d1_bin(y, bins=20))) + \" wells\")\n",
    "print(\"W has \" + str(find_wells(d1_bin(w, bins=20))) + \" wells\")\n",
    "print(\"C has \" + str(find_wells(d1_bin(c, bins=20))) + \" wells\")\n",
    "print(\"D has \" + str(find_wells(d1_bin(d, bins=20))) + \" wells\")\n",
    "print(\"E has \" + str(find_wells(d1_bin(e, bins=20))) + \" wells\")\n",
    "print(\"F has \" + str(find_wells(d1_bin(f, bins=20))) + \" wells\")\n",
    "print(\"X and Y: \" + str(mutual_info(x, y)))\n",
    "print(\"X and W: \" + str(mutual_info(x, w)))\n",
    "print(\"Y and W: \" + str(mutual_info(y, w)))\n",
    "print(\"X and 4X: \" + str(mutual_info(x, x4)))\n",
    "print(\"X and -4X: \" + str(mutual_info(x, xm4)))\n",
    "print(\"X and X: \" + str(mutual_info(y, y2)))"
   ]
  },
  {
   "cell_type": "code",
   "execution_count": 26,
   "metadata": {},
   "outputs": [],
   "source": [
    "def find_ops(old_ops, max_outputs):\n",
    "    \n",
    "    matrix = SimilarityMatrix(max_outputs)\n",
    "    \n",
    "    for i in old_ops:\n",
    "        matrix.add_OP(i)\n",
    "        \n",
    "    for i in old_ops[::-1]:\n",
    "        matrix.add_OP(i)\n",
    "        \n",
    "    return matrix\n"
   ]
  },
  {
   "cell_type": "code",
   "execution_count": 16,
   "metadata": {},
   "outputs": [
    {
     "name": "stdout",
     "output_type": "stream",
     "text": [
      "HERE ARE THE SELECTED OPS:\n",
      "10\n",
      "12\n",
      "18\n",
      "19\n",
      "5\n"
     ]
    }
   ],
   "source": [
    "tmp = [x, x2, x4, x5, xm1, xm4, y, y2, y4, y5, ym1, ym4, z, a, a2, a3, am1, am2, am3, b, b2, b3, bm1, bm2, bm3]\n",
    "#      0   1   2   3   4    5   6  7   8   9    10   11  12 13 14  15   16   17   18  19 20  21  22    23   24\n",
    "# 3 - x5\n",
    "# 10 - ym1\n",
    "# 12 - z\n",
    "# 13 - a\n",
    "# 19 - b\n",
    "ops = [OrderParameter(i, i, tmp[i]) for i in range(len(tmp))]\n",
    "vals = find_ops(ops, max_outputs=5)[0]\n",
    "print(\"HERE ARE THE SELECTED OPS:\")\n",
    "for i in vals:\n",
    "    print(i)"
   ]
  },
  {
   "cell_type": "code",
   "execution_count": 17,
   "metadata": {},
   "outputs": [
    {
     "name": "stdout",
     "output_type": "stream",
     "text": [
      "HERE ARE THE SELECTED OPS:\n",
      "19\n",
      "26\n",
      "17\n",
      "3\n",
      "24\n"
     ]
    }
   ],
   "source": [
    "tmp = [x, a2, w, y5, am1, d, x2, y2, bm2, ym1, b2, a, am3, b3, xm1, f, e, b, am2, x4, c, y4, bm3, x5, a3, bm1, z, y, xm4, ym4]\n",
    "#      0   1  2   3   4   5  6   7    8    9   10  11  12  13   14  15 16 17 18   19  20 21  22   23  24  25   26  27 28  29\n",
    "# 9 - ym1\n",
    "# 17 - b\n",
    "# 18 - am2\n",
    "# 19 - x4\n",
    "# 26 - z\n",
    "ops = [OrderParameter(i, i, tmp[i]) for i in range(len(tmp))]\n",
    "vals = find_ops(ops, max_outputs=5)[0]\n",
    "print(\"HERE ARE THE SELECTED OPS:\")\n",
    "for i in vals:\n",
    "    print(i)"
   ]
  },
  {
   "cell_type": "code",
   "execution_count": 18,
   "metadata": {},
   "outputs": [
    {
     "data": {
      "image/png": "[encoded data removed]",
      "text/plain": [
       "<Figure size 432x288 with 1 Axes>"
      ]
     },
     "metadata": {
      "needs_background": "light"
     },
     "output_type": "display_data"
    },
    {
     "data": {
      "image/png": "[encoded data removed]",
      "text/plain": [
       "<Figure size 432x288 with 1 Axes>"
      ]
     },
     "metadata": {
      "needs_background": "light"
     },
     "output_type": "display_data"
    }
   ],
   "source": [
    "# Adding in variables with variation\n",
    "xv1 = []\n",
    "xv2 = []\n",
    "xv3 = []\n",
    "xv4 = []\n",
    "xv5 = []\n",
    "yv1 = []\n",
    "yv2 = []\n",
    "yv3 = []\n",
    "yv4 = []\n",
    "yv5 = []\n",
    "zv1 = []\n",
    "zv2 = []\n",
    "zv3 = []\n",
    "av1 = []\n",
    "av2 = []\n",
    "av3 = []\n",
    "bv1 = []\n",
    "bv2 = []\n",
    "bv3 = []\n",
    "for i in x:\n",
    "    xv1.append(i + (random.random() / 10))\n",
    "    xv2.append(i + (random.random() / 10))\n",
    "    xv3.append(i + (random.random() / 10))\n",
    "    xv4.append(i + (random.random() / 10))\n",
    "    xv5.append(i + (random.random() / 10))\n",
    "for i in y:\n",
    "    yv1.append(i + (random.random() / 10))\n",
    "    yv2.append(i + (random.random() / 10))\n",
    "    yv3.append(i + (random.random() / 10))\n",
    "    yv4.append(i + (random.random() / 10))\n",
    "    yv5.append(i + (random.random() / 10))\n",
    "for i in z:\n",
    "    zv1.append(i + (random.random() / 10))\n",
    "    zv2.append(i + (random.random() / 10))\n",
    "    zv3.append(i + (random.random() / 10))\n",
    "for i in a:\n",
    "    av1.append(i + (random.random() / 10))\n",
    "    av2.append(i + (random.random() / 10))\n",
    "    av3.append(i + (random.random() / 10))\n",
    "for i in b:\n",
    "    bv1.append(i + (random.random() / 10))\n",
    "    bv2.append(i + (random.random() / 10))\n",
    "    bv3.append(i + (random.random() / 10))    \n",
    "    \n",
    "plt.scatter(x, xv1)\n",
    "plt.title(\"Scatter Plot of X vs. F1(X)\")\n",
    "plt.xlabel(\"X\")\n",
    "plt.ylabel(\"F1(X)\")\n",
    "plt.show()\n",
    "plt.scatter(xv1, xv2)\n",
    "plt.title(\"Scatter Plot of F1(X) vs. F2(X)\")\n",
    "plt.xlabel(\"F1(X)\")\n",
    "plt.ylabel(\"F2(X)\")\n",
    "plt.show()\n"
   ]
  },
  {
   "cell_type": "code",
   "execution_count": 27,
   "metadata": {},
   "outputs": [
    {
     "name": "stdout",
     "output_type": "stream",
     "text": [
      "HERE ARE THE 7 SELECTED OPS:\n",
      "zv2\n",
      "bv2\n",
      "xv4\n",
      "f\n",
      "av1\n",
      "yv2\n",
      "e\n",
      "HERE ARE THE 6 SELECTED OPS:\n",
      "zv2\n",
      "xv3\n",
      "bv2\n",
      "e\n",
      "av1\n",
      "yv2\n",
      "\n",
      "HERE ARE THE 5 SELECTED OPS:\n",
      "zv1\n",
      "xv1\n",
      "yv5\n",
      "bv2\n",
      "av2\n",
      "\n",
      "HERE ARE THE 4 SELECTED OPS:\n",
      "zv2\n",
      "xv2\n",
      "av1\n",
      "c\n"
     ]
    }
   ],
   "source": [
    "tmp = [zv1, x, a2, w, av1, y5, am1, xv1, d, x2, bv1, yv1, zv3, y2, av3, bm2, bv2, ym1, xv3, b2, yv3, zv2, a, am3, b3, xm1, f, xv2, e, av2, bv3, yv2, b, yv4, am2, x4, c, yv5, y4, bm3, xv4, x5, a3, bm1, z, y, xv5, xm4, ym4]\n",
    "#       0   1  2   3   4    5   6    7   8  9    10   11   12  13   14   15  16    17  18   19  20    21  22 23   24  25   26 27   28  29  30    31  32 33   34   35  36 37   38  39   40   41  42  43   44 45 46   47   48\n",
    "string_array = [\"zv1\", \"x\", \"a2\", \"w\", \"av1\", \"y5\", \"am1\", \"xv1\", \"d\", \"x2\", \"bv1\", \"yv1\", \"zv3\", \"y2\", \"av3\", \"bm2\", \"bv2\", \"ym1\", \"xv3\", \"b2\", \"yv3\", \"zv2\", \"a\", \"am3\", \"b3\", \"xm1\", \"f\", \"xv2\", \"e\", \"av2\", \"bv3\", \"yv2\", \"b\", \"yv4\", \"am2\", \"x4\", \"c\", \"yv5\", \"y4\", \"bm3\", \"xv4\", \"x5\", \"a3\", \"bm1\", \"z\", \"y\", \"xv5\", \"xm4\", \"ym4\"]\n",
    "ops = [OrderParameter(i, i, tmp[i]) for i in range(len(tmp))]\n",
    "seven_ops = find_ops(ops, max_outputs=7)\n",
    "print(\"HERE ARE THE 7 SELECTED OPS:\")\n",
    "for i in seven_ops.OPs:\n",
    "    print(string_array[i.i])\n",
    "six_ops = find_ops(ops, max_outputs=6)\n",
    "print(\"HERE ARE THE 6 SELECTED OPS:\")\n",
    "for i in six_ops.OPs:\n",
    "    print(string_array[i.i])\n",
    "five_ops = find_ops(ops, max_outputs=5)\n",
    "print(\"\\nHERE ARE THE 5 SELECTED OPS:\")\n",
    "for i in five_ops.OPs:\n",
    "    print(string_array[i.i])\n",
    "four_ops = find_ops(ops, max_outputs=4)\n",
    "print(\"\\nHERE ARE THE 4 SELECTED OPS:\")\n",
    "for i in four_ops.OPs:\n",
    "    print(string_array[i.i])"
   ]
  },
  {
   "cell_type": "code",
   "execution_count": 76,
   "metadata": {},
   "outputs": [
    {
     "name": "stdout",
     "output_type": "stream",
     "text": [
      "HERE ARE THE 15 SELECTED OPS:\n",
      "zv1\n",
      "yv2\n",
      "yv5\n",
      "w\n",
      "av1\n",
      "xv5\n",
      "e\n",
      "xv1\n",
      "d\n",
      "bv2\n",
      "bv1\n",
      "c\n",
      "zv3\n",
      "f\n",
      "av2\n"
     ]
    }
   ],
   "source": [
    "test_ops = find_ops(ops, max_outputs=15)\n",
    "print(\"HERE ARE THE 15 SELECTED OPS:\")\n",
    "for i in test_ops.OPs:\n",
    "    print(string_array[i.i])"
   ]
  },
  {
   "cell_type": "code",
   "execution_count": 82,
   "metadata": {},
   "outputs": [
    {
     "data": {
      "image/png": "[encoded data removed]",
      "text/plain": [
       "<Figure size 432x288 with 1 Axes>"
      ]
     },
     "metadata": {
      "needs_background": "light"
     },
     "output_type": "display_data"
    },
    {
     "data": {
      "image/png": "[encoded data removed]",
      "text/plain": [
       "<Figure size 432x288 with 1 Axes>"
      ]
     },
     "metadata": {
      "needs_background": "light"
     },
     "output_type": "display_data"
    }
   ],
   "source": [
    "test = copy.deepcopy(test_ops)\n",
    "nums = []\n",
    "products = []\n",
    "means = []\n",
    "\n",
    "for i in range(13):\n",
    "    nums.append(str(len(test.OPs)))\n",
    "    products.append(test.min_product())\n",
    "    means.append(test.min_product() ** (1.0/(len(test.OPs) - 1)))\n",
    "    test.reduce()\n",
    "\n",
    "plt.bar(nums, products)\n",
    "plt.show()\n",
    "    \n",
    "plt.bar(nums, means)\n",
    "plt.show()\n"
   ]
  },
  {
   "cell_type": "code",
   "execution_count": 42,
   "metadata": {},
   "outputs": [
    {
     "name": "stdout",
     "output_type": "stream",
     "text": [
      "0.9286656546167206\n",
      "0.9572218950951097\n",
      "0.8150374987427772\n",
      "0.7689291202588854\n",
      "0.9283065103257261\n",
      "0.9572280677645912\n",
      "\n",
      "0.4950427763181755\n",
      "\n",
      "0.9651065602551773\n",
      "0.9652136071699238\n",
      "0.9649511590843416\n",
      "0.9657185396963389\n",
      "0.964620645623638\n",
      "\n",
      "0.8373579683375086\n",
      "\n",
      "0.9742699493303654\n",
      "0.974107198554171\n",
      "0.973998716014661\n",
      "0.9744868800317532\n",
      "\n",
      "0.9007835379767577\n"
     ]
    }
   ],
   "source": [
    "big_product = 1\n",
    "for i in range(len(new_ops[1])):\n",
    "    product = 1\n",
    "    for j in range(len(new_ops[1][i])):\n",
    "        if not i == j:\n",
    "            product = product * new_ops[1][i][j]\n",
    "    big_product = big_product * product\n",
    "    print(product)\n",
    "print(\"\\n\" + str(big_product))\n",
    "print()\n",
    "big_product = 1\n",
    "for i in range(len(five_ops[1])):\n",
    "    product = 1\n",
    "    for j in range(len(five_ops[1][i])):\n",
    "        if not i == j:\n",
    "            product = product * five_ops[1][i][j]\n",
    "    big_product = big_product * product\n",
    "    print(product)\n",
    "print(\"\\n\" + str(big_product))\n",
    "print()\n",
    "big_product = 1\n",
    "for i in range(len(four_ops[1])):\n",
    "    product = 1\n",
    "    for j in range(len(four_ops[1][i])):\n",
    "        if not i == j:\n",
    "            product = product * four_ops[1][i][j]\n",
    "    big_product = big_product * product\n",
    "    print(product)\n",
    "print(\"\\n\" + str(big_product))"
   ]
  },
  {
   "cell_type": "code",
   "execution_count": 26,
   "metadata": {},
   "outputs": [
    {
     "name": "stdout",
     "output_type": "stream",
     "text": [
      "zv2 z \n",
      "c \n",
      "zv1 zv3 \n",
      "y5 yv1 y2 ym1 yv3 yv2 yv4 yv5 y4 y ym4 \n",
      "av1 d av2 \n",
      "f \n",
      "e \n",
      "x w xv1 x2 xv3 xm1 xv2 x4 xv4 x5 xv5 xm4 \n",
      "bv1 bm2 bv2 b2 b3 bv3 b bm3 bm1 \n",
      "a2 am1 av3 a am3 am2 a3 \n",
      "\n"
     ]
    }
   ],
   "source": [
    "# Grouping\n",
    "def grouping(nw, al):\n",
    "    groups = [[] for i in range(len(nw))]\n",
    "    for OP in al:\n",
    "        max_val = 100\n",
    "        group = -1\n",
    "        for i in range(len(nw)):\n",
    "            tmp = mutual_info(OP.traj, nw[i].traj)\n",
    "            if tmp < max_val:\n",
    "                max_val = tmp\n",
    "                group = i\n",
    "        groups[group].append(OP)\n",
    "    return groups\n",
    "vals = grouping(new_ops[0], ops)\n",
    "string = \"\"\n",
    "for i in vals:\n",
    "    for j in i:\n",
    "        string = string + string_array[j.i] + \" \"\n",
    "    string = string + \"\\n\"\n",
    "print(string)"
   ]
  },
  {
   "cell_type": "code",
   "execution_count": null,
   "metadata": {},
   "outputs": [],
   "source": [
    "# Group evaulation\n",
    "def group_evaluation(al):\n",
    "    mut_info = []\n",
    "    for i in range(len(al)):\n",
    "        product = 1\n",
    "        for j in range(len(al)):\n",
    "            if not i == j:\n",
    "                product = product * (mutual_info(al[i].traj, al[j].traj))\n",
    "        mut_info.append(product)\n",
    "    max_val = 10\n",
    "    op = -1\n",
    "    for i in range(len(al)):\n",
    "        if mut_info[i] < max_val:\n",
    "            op = i\n",
    "            max_val = mut_info[i]\n",
    "    return al[op]"
   ]
  },
  {
   "cell_type": "code",
   "execution_count": null,
   "metadata": {},
   "outputs": [],
   "source": [
    "tmp = [xv1, xv5, x, xv2, xv4, xv3]\n",
    "ops = [OrderParameter(i, i, tmp[i]) for i in range(len(tmp))]\n",
    "val = grouping(ops)\n",
    "print(\"X Group: \" + str(val))\n",
    "\n",
    "tmp = [yv2, yv4, yv3, y, yv1, yv5]\n",
    "ops = [OrderParameter(i, i, tmp[i]) for i in range(len(tmp))]\n",
    "val = grouping(ops)\n",
    "print(\"Y Group: \" + str(val))\n",
    "\n",
    "tmp = [z, zv1, zv2, zv3]\n",
    "ops = [OrderParameter(i, i, tmp[i]) for i in range(len(tmp))]\n",
    "val = grouping(ops)\n",
    "print(\"Z Group: \" + str(val))\n",
    "\n",
    "tmp = [av3, av2, av1, a]\n",
    "ops = [OrderParameter(i, i, tmp[i]) for i in range(len(tmp))]\n",
    "val = grouping(ops)\n",
    "print(\"A Group: \" + str(val))\n",
    "\n",
    "tmp = [bv1, b, bv3, bv2]\n",
    "ops = [OrderParameter(i, i, tmp[i]) for i in range(len(tmp))]\n",
    "val = grouping(ops)\n",
    "print(\"B Group: \" + str(val))"
   ]
  }
 ],
 "metadata": {
  "kernelspec": {
   "display_name": "Python 3",
   "language": "python",
   "name": "python3"
  },
  "language_info": {
   "codemirror_mode": {
    "name": "ipython",
    "version": 3
   },
   "file_extension": ".py",
   "mimetype": "text/x-python",
   "name": "python",
   "nbconvert_exporter": "python",
   "pygments_lexer": "ipython3",
   "version": "3.7.1"
  }
 },
 "nbformat": 4,
 "nbformat_minor": 2
}
