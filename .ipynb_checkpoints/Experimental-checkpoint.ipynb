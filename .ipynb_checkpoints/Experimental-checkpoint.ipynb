{
 "cells": [
  {
   "cell_type": "code",
   "execution_count": 14,
   "metadata": {},
   "outputs": [],
   "source": [
    "import subprocess\n",
    "import numpy as np\n",
    "import sgoop\n",
    "import scipy.optimize as opt\n",
    "import time\n",
    "import matplotlib.pyplot as plt\n",
    "import random\n",
    "\n",
    "gro_file = \"npt.gro\"\n",
    "traj_file = \"md1.xtc\"\n",
    "plumed_file = \"input.plu\"\n",
    "tmp_colvar = \".colvar\"\n",
    "shell_file = \"plumed.log\"\n",
    "bashCommand = \"plumed driver --plumed \" + plumed_file + \" --mf_xtc \" + traj_file\n",
    "rmCommand = \"rm bck.*.\" + tmp_colvar"
   ]
  },
  {
   "cell_type": "code",
   "execution_count": 2,
   "metadata": {},
   "outputs": [],
   "source": [
    "class OrderParameter:\n",
    "\n",
    "    def __init__(self, i, j, traj):\n",
    "        self.i = i\n",
    "        self.j = j\n",
    "        self.traj = traj\n",
    "        \n",
    "    def __str__(self):\n",
    "        return str(self.i)"
   ]
  },
  {
   "cell_type": "code",
   "execution_count": 3,
   "metadata": {},
   "outputs": [],
   "source": [
    "# Parse through .gro file and returns array of alpha carbons\n",
    "def find_alpha_carbons(gro_file):\n",
    "\n",
    "    f = open(gro_file, \"r\")\n",
    "    alpha_carbons = []\n",
    "\n",
    "    # Reads title string and number of atoms and ignores them\n",
    "    f.readline()\n",
    "    f.readline()\n",
    "\n",
    "    # Iterates through each line corresponding to an atom\n",
    "    for i in f:\n",
    "\n",
    "        comps = i.split()\n",
    "\n",
    "        # Checks if atom is an alpha carbon\n",
    "        if comps[1] == \"CA\":\n",
    "            alpha_carbons.append(int(comps[2]))\n",
    "\n",
    "    f.close()\n",
    "    return alpha_carbons"
   ]
  },
  {
   "cell_type": "code",
   "execution_count": 4,
   "metadata": {},
   "outputs": [],
   "source": [
    "# Binning values of one order parameter to create a 1 dimensional probability space\n",
    "def d1_bin(x, bins = 80):\n",
    "\n",
    "    min_val = np.amin(x)\n",
    "    max_val = np.amax(x)\n",
    "    span = max_val - min_val\n",
    "\n",
    "    p_x = [0.0 for i in range(bins)]\n",
    "\n",
    "    for i in x:\n",
    "        bin_num = (int) (bins * (i - min_val) / span)\n",
    "        if bin_num == bins:\n",
    "            bin_num -= 1\n",
    "        p_x[bin_num] += 1.0 / len(x)\n",
    "\n",
    "    return p_x"
   ]
  },
  {
   "cell_type": "code",
   "execution_count": 5,
   "metadata": {},
   "outputs": [],
   "source": [
    "# Binning valus of two order parameters to create a 2 dimensional probability space\n",
    "def d2_bin(x, y, bins = 80):\n",
    "\n",
    "    if len(x) != len(y):\n",
    "        raise Exception(\"Order parameter lists are of different size.\")\n",
    "\n",
    "    min_x = np.amin(x)\n",
    "    max_x = np.amax(x)\n",
    "    span_x = max_x - min_x\n",
    "\n",
    "    min_y = np.amin(y)\n",
    "    max_y = np.amax(y)\n",
    "    span_y = max_y - min_y\n",
    "\n",
    "    p_xy = [[0.0 for i in range(bins)] for j in range(bins)]\n",
    "\n",
    "    for i in range(len(x)):\n",
    "        bin_x = (int) (bins * (x[i] - min_x) / span_x)\n",
    "        bin_y = (int) (bins * (y[i] - min_y) / span_y)\n",
    "        if bin_x == bins:\n",
    "            bin_x -= 1\n",
    "        if bin_y == bins:\n",
    "            bin_y -= 1\n",
    "        p_xy[bin_x][bin_y] += 1.0 / len(x)\n",
    "\n",
    "    return p_xy"
   ]
  },
  {
   "cell_type": "code",
   "execution_count": 6,
   "metadata": {},
   "outputs": [],
   "source": [
    "# Calculates normalized mutual information of two order parameters\n",
    "def mutual_info(x, y, bins = 100):\n",
    "\n",
    "    p_x = d1_bin(x, bins)\n",
    "    p_y = d1_bin(y, bins)\n",
    "    p_xy = d2_bin(x, y, bins)\n",
    "\n",
    "    info = 0\n",
    "    entropy = 0\n",
    "\n",
    "    for i in range(len(p_x)):\n",
    "        for j in range(len(p_y)):\n",
    "            if p_xy[i][j] != 0:\n",
    "                entropy -= p_xy[i][j] * np.log(p_xy[i][j])\n",
    "                info += p_xy[i][j] * np.log(p_xy[i][j] / (p_x[i] * p_y[j]))\n",
    "\n",
    "    return (1 - (info / entropy))"
   ]
  },
  {
   "cell_type": "code",
   "execution_count": 7,
   "metadata": {},
   "outputs": [],
   "source": [
    "# Finds the number of local maxima in a noisy probability distribution\n",
    "def find_wells(prob):\n",
    "\n",
    "    energy = []\n",
    "    for i in (range(len(prob))):\n",
    "        if prob[i] == 0:\n",
    "            energy.append(np.inf)\n",
    "        else:\n",
    "            energy.append(-1 * np.log(prob[i]))\n",
    "\n",
    "    wells = 0\n",
    "    max = np.inf\n",
    "    min = np.inf\n",
    "    d = 1\n",
    "    i = 0\n",
    "    for x in energy:\n",
    "        if x > max:\n",
    "            max = x\n",
    "            if (max - min > 1):\n",
    "                min = x\n",
    "                d = 1\n",
    "        elif x < min:\n",
    "            min = x\n",
    "            if (max - min > 1):\n",
    "                if d == 1:\n",
    "                    wells = wells + 1\n",
    "                max = x\n",
    "                d = -1\n",
    "        i = i + 1\n",
    "\n",
    "    return wells"
   ]
  },
  {
   "cell_type": "code",
   "execution_count": 37,
   "metadata": {},
   "outputs": [],
   "source": []
  },
  {
   "cell_type": "code",
   "execution_count": 38,
   "metadata": {},
   "outputs": [
    {
     "data": {
      "image/png": "[encoded data removed]",
      "text/plain": [
       "<Figure size 432x288 with 1 Axes>"
      ]
     },
     "metadata": {
      "needs_background": "light"
     },
     "output_type": "display_data"
    },
    {
     "data": {
      "image/png": "[encoded data removed]",
      "text/plain": [
       "<Figure size 432x288 with 1 Axes>"
      ]
     },
     "metadata": {
      "needs_background": "light"
     },
     "output_type": "display_data"
    }
   ],
   "source": []
  },
  {
   "cell_type": "code",
   "execution_count": null,
   "metadata": {},
   "outputs": [],
   "source": [
    "plumed_log = open(shell_file, \"w+\")\n",
    "alpha_carbons = find_alpha_carbons(gro_file)\n",
    "\n",
    "for i in range(len(alpha_carbons)):\n",
    "    print(i)\n",
    "    f = open(plumed_file, \"w+\")\n",
    "    for j in range(i + 1, len(alpha_carbons)):\n",
    "        f.write(\"d\" + str(j) + \": DISTANCE ATOMS=\" + str(alpha_carbons[i]) + \",\" + str(alpha_carbons[j]) + \"\\n\")\n",
    "    f.write(\"PRINT ARG=\")\n",
    "    for j in range(i + 1, len(alpha_carbons)):\n",
    "        f.write(\"d\" + str(j))\n",
    "        if j != len(alpha_carbons) - 1:\n",
    "            f.write(\",\")\n",
    "    f.write(\" FILE=\" + tmp_colvar + \" STRIDE=1\")\n",
    "    f.close()\n",
    "    process = subprocess.call(bashCommand.split(), stdout = plumed_log, shell = True)\n",
    "\n",
    "    f = open(tmp_colvar, \"r\")\n",
    "    f.readline()\n",
    "    paths = [[] for counter in range(len(alpha_carbons) - i - 1)]\n",
    "    for line in f:\n",
    "        timestep = [float(x) for x in line.split()]\n",
    "        for a in range(1, len(timestep)):\n",
    "            paths[a - 1].append(timestep[a])\n",
    "\n",
    "    counter = i + 1\n",
    "\n",
    "    for path in paths:\n",
    "        prob = d1_bin(path)\n",
    "        if find_wells(prob) > 1:\n",
    "            OP = OrderParameter(alpha_carbons[i], alpha_carbons[counter], path)\n",
    "            matrix.add_OP(OP)\n",
    "        counter = counter + 1\n",
    "\n",
    "    process = subprocess.call(rmCommand.split())"
   ]
  }
 ],
 "metadata": {
  "kernelspec": {
   "display_name": "Python 3",
   "language": "python",
   "name": "python3"
  },
  "language_info": {
   "codemirror_mode": {
    "name": "ipython",
    "version": 3
   },
   "file_extension": ".py",
   "mimetype": "text/x-python",
   "name": "python",
   "nbconvert_exporter": "python",
   "pygments_lexer": "ipython3",
   "version": "3.7.1"
  }
 },
 "nbformat": 4,
 "nbformat_minor": 2
}
