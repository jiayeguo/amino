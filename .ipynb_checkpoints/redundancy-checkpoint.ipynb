{
 "cells": [
  {
   "cell_type": "code",
   "execution_count": 30,
   "metadata": {},
   "outputs": [],
   "source": [
    "# Importing Libraries\n",
    "import numpy as np\n",
    "import matplotlib.pyplot as plot\n",
    "import random\n",
    "\n",
    "# Notes to self:\n",
    "# 0.2 seems to be a good cutoff for distinguishing. Maybe use priority queue with parameter length instead (seems safer)"
   ]
  },
  {
   "cell_type": "code",
   "execution_count": 10,
   "metadata": {},
   "outputs": [],
   "source": [
    "# Binning values of one order parameter to create a 1 dimensional probability space\n",
    "def d1_bin(x, bins):\n",
    "    \n",
    "    min_val = np.amin(x)\n",
    "    max_val = np.amax(x)\n",
    "    span = max_val - min_val\n",
    "    \n",
    "    p_x = [0.0 for i in range(bins)]\n",
    "    \n",
    "    for i in x:\n",
    "        bin_num = (int) (bins * (i - min_val) / span)\n",
    "        if bin_num == bins:\n",
    "            bin_num -= 1\n",
    "        p_x[bin_num] += 1.0 / len(x)\n",
    "    \n",
    "    return p_x\n"
   ]
  },
  {
   "cell_type": "code",
   "execution_count": 11,
   "metadata": {},
   "outputs": [],
   "source": [
    "# Binning valus of two order parameters to create a 2 dimensional probability space\n",
    "def d2_bin(x, y, bins):\n",
    "    \n",
    "    if len(x) != len(y):\n",
    "        raise Exception(\"Order parameter lists are of different size.\")\n",
    "    \n",
    "    min_x = np.amin(x)\n",
    "    max_x = np.amax(x)\n",
    "    span_x = max_x - min_x\n",
    "    \n",
    "    min_y = np.amin(y)\n",
    "    max_y = np.amax(y)\n",
    "    span_y = max_y - min_y\n",
    "    \n",
    "    p_xy = [[0.0 for i in range(bins)] for j in range(bins)]\n",
    "    \n",
    "    for i in range(len(x)):\n",
    "        bin_x = (int) (bins * (x[i] - min_x) / span_x)\n",
    "        bin_y = (int) (bins * (y[i] - min_y) / span_y)\n",
    "        if bin_x == bins:\n",
    "            bin_x -= 1\n",
    "        if bin_y == bins:\n",
    "            bin_y -= 1\n",
    "        p_xy[bin_x][bin_y] += 1.0 / len(x)\n",
    "    \n",
    "    return p_xy\n"
   ]
  },
  {
   "cell_type": "code",
   "execution_count": 15,
   "metadata": {},
   "outputs": [],
   "source": [
    "# Calculates Kullback–Leibler Divergence of two order parameters, namely D(x || y)\n",
    "def kl_div(x, y, bins = 100):\n",
    "    \n",
    "    p_x = d1_bin(x, bins)\n",
    "    p_y = d1_bin(y, bins)\n",
    "    \n",
    "    smallest_y = 1\n",
    "    \n",
    "    for i in p_y:\n",
    "        if i > 0 and i < smallest_y:\n",
    "            smallest_y = i\n",
    "    \n",
    "    kl = 0.0\n",
    "    \n",
    "    for i in range(len(p_x)):\n",
    "        if p_x[i] != 0:\n",
    "            if p_y[i] == 0:\n",
    "                kl += p_x[i] * np.log(p_x[i] / smallest_y)\n",
    "            else:\n",
    "                kl += p_x[i] * np.log(p_x[i] / p_y[i])\n",
    "        \n",
    "    return kl\n",
    "    "
   ]
  },
  {
   "cell_type": "code",
   "execution_count": 27,
   "metadata": {},
   "outputs": [],
   "source": [
    "# Calculates mutual information of two order parameters\n",
    "def mutual_info(x, y, bins = 100):\n",
    "    \n",
    "    p_x = d1_bin(x, bins)\n",
    "    p_y = d1_bin(y, bins)\n",
    "    p_xy = d2_bin(x, y, bins)\n",
    "    \n",
    "    info = 0\n",
    "    \n",
    "    for i in range(len(p_x)):\n",
    "        for j in range(len(p_y)):\n",
    "            if p_xy[i][j] != 0:\n",
    "                info += p_xy[i][j] * np.log(p_xy[i][j] / (p_x[i] * p_y[j]))\n",
    "    \n",
    "    return info\n",
    "\n",
    "def test_info(x, y, bins = 100):\n",
    "    \n",
    "    p_x = d1_bin(x, bins)\n",
    "    p_y = d1_bin(y, bins)\n",
    "    p_xy = d2_bin(x, y, bins)\n",
    "    \n",
    "    info = 0\n",
    "    \n",
    "    for i in range(len(p_x)):\n",
    "        for j in range(len(p_y)):\n",
    "            if p_xy[i][j] != 0:\n",
    "                info += p_x[i] * np.log(p_xy[i][j] / (p_x[i] * p_y[j]))\n",
    "    \n",
    "    return info\n"
   ]
  },
  {
   "cell_type": "code",
   "execution_count": 9,
   "metadata": {},
   "outputs": [
    {
     "data": {
      "image/png": "[encoded data removed]",
      "text/plain": [
       "<Figure size 432x288 with 1 Axes>"
      ]
     },
     "metadata": {
      "needs_background": "light"
     },
     "output_type": "display_data"
    },
    {
     "name": "stdout",
     "output_type": "stream",
     "text": [
      "4.600924695067979\n"
     ]
    }
   ],
   "source": [
    "# Straight positive slope line (is redundant)\n",
    "x = []\n",
    "y = []\n",
    "for i in range(10000):\n",
    "    tmp = random.random()\n",
    "    x.append(1 - (2 * tmp))\n",
    "    y.append(1 - (2 * tmp))\n",
    "plot.plot(x, y, \"bo\")\n",
    "plot.show()\n",
    "print(mutual_info(x, y))"
   ]
  },
  {
   "cell_type": "code",
   "execution_count": 10,
   "metadata": {},
   "outputs": [
    {
     "data": {
      "image/png": "[encoded data removed]",
      "text/plain": [
       "<Figure size 432x288 with 1 Axes>"
      ]
     },
     "metadata": {
      "needs_background": "light"
     },
     "output_type": "display_data"
    },
    {
     "name": "stdout",
     "output_type": "stream",
     "text": [
      "4.59828851335217\n"
     ]
    }
   ],
   "source": [
    "# Straight negative slope line (is redundant)\n",
    "x = []\n",
    "y = []\n",
    "for i in range(10000):\n",
    "    tmp = random.random()\n",
    "    x.append(1 - (2 * tmp))\n",
    "    y.append((2 * tmp) - 1)\n",
    "plot.plot(x, y, \"bo\")\n",
    "plot.show()\n",
    "print(mutual_info(x, y))"
   ]
  },
  {
   "cell_type": "code",
   "execution_count": 11,
   "metadata": {},
   "outputs": [
    {
     "data": {
      "image/png": "[encoded data removed]",
      "text/plain": [
       "<Figure size 432x288 with 1 Axes>"
      ]
     },
     "metadata": {
      "needs_background": "light"
     },
     "output_type": "display_data"
    },
    {
     "name": "stdout",
     "output_type": "stream",
     "text": [
      "1.506978762551716\n",
      "0.012879903849727604\n",
      "0.013920939819582154\n"
     ]
    }
   ],
   "source": [
    "# Positive Correlation (is redundant)\n",
    "x = []\n",
    "y = []\n",
    "for i in range(10000):\n",
    "    tmp = random.random()\n",
    "    x.append(1 - (2 * tmp) + np.random.normal(0, 0.1))\n",
    "    y.append(1 - (2 * tmp) + np.random.normal(0, 0.1))\n",
    "plot.plot(x, y, \"bo\")\n",
    "plot.show()\n",
    "print(mutual_info(x, y))\n",
    "print(kl_div(x, y))\n",
    "print(kl_div(y, x))"
   ]
  },
  {
   "cell_type": "code",
   "execution_count": 17,
   "metadata": {},
   "outputs": [
    {
     "data": {
      "image/png": "[encoded data removed]",
      "text/plain": [
       "<Figure size 432x288 with 1 Axes>"
      ]
     },
     "metadata": {
      "needs_background": "light"
     },
     "output_type": "display_data"
    },
    {
     "name": "stdout",
     "output_type": "stream",
     "text": [
      "1.4725945300980652\n",
      "0.030150632035225305\n",
      "0.028715645511448014\n"
     ]
    }
   ],
   "source": [
    "# Negative Correlation (is redundant)\n",
    "x = []\n",
    "y = []\n",
    "for i in range(10000):\n",
    "    tmp = random.random()\n",
    "    x.append(2 * tmp - 1 + np.random.normal(0, 0.1))\n",
    "    y.append(1 - 2 * tmp + np.random.normal(0, 0.1))\n",
    "plot.plot(x, y, \"bo\")\n",
    "plot.show()\n",
    "print(mutual_info(x, y))\n",
    "print(kl_div(x, y))\n",
    "print(kl_div(y, x))"
   ]
  },
  {
   "cell_type": "code",
   "execution_count": 13,
   "metadata": {},
   "outputs": [
    {
     "data": {
      "image/png": "[encoded data removed]",
      "text/plain": [
       "<Figure size 432x288 with 1 Axes>"
      ]
     },
     "metadata": {
      "needs_background": "light"
     },
     "output_type": "display_data"
    },
    {
     "name": "stdout",
     "output_type": "stream",
     "text": [
      "0.5628520751356202\n",
      "0.009446986630377598\n",
      "0.00959084390843889\n"
     ]
    }
   ],
   "source": [
    "# No correlation (is NOT redundant)\n",
    "x = []\n",
    "y = []\n",
    "for i in range(10000):\n",
    "    x.append(2 * random.random() - 1)\n",
    "    y.append(1 - 2 * random.random())\n",
    "plot.plot(x, y, \"bo\")\n",
    "plot.show()\n",
    "print(mutual_info(x, y))\n",
    "print(kl_div(x, y))\n",
    "print(kl_div(y, x))"
   ]
  },
  {
   "cell_type": "code",
   "execution_count": 18,
   "metadata": {},
   "outputs": [
    {
     "data": {
      "image/png": "[encoded data removed]",
      "text/plain": [
       "<Figure size 432x288 with 1 Axes>"
      ]
     },
     "metadata": {
      "needs_background": "light"
     },
     "output_type": "display_data"
    },
    {
     "name": "stdout",
     "output_type": "stream",
     "text": [
      "1.6999522940884786\n",
      "0.6810231139025353\n",
      "0.785408208632461\n"
     ]
    }
   ],
   "source": [
    "# Rate change (is redundant)\n",
    "x = []\n",
    "y = []\n",
    "for i in range(10000):\n",
    "    tmp = random.random()\n",
    "    x.append(1 - (2 * tmp) + np.random.normal(0, 0.1))\n",
    "    if (1 - 2 * tmp) >= 0:\n",
    "        y.append(5 + np.random.normal(0, 0.1) - (2 * tmp) + (1 - 2 * tmp) / abs(1 - 2 * tmp) * np.log(0.01 + abs(1 - 2 * tmp)) + np.random.normal(0, 0.1))\n",
    "    else:\n",
    "        y.append(-3.4 + np.random.normal(0, 0.1) - (2 * tmp) + (1 - 2 * tmp) / abs(1 - 2 * tmp) * np.log(0.01 + abs(1 - 2 * tmp)) + np.random.normal(0, 0.1))\n",
    "plot.plot(x, y, \"bo\")\n",
    "plot.show()\n",
    "print(mutual_info(x, y))\n",
    "print(kl_div(x, y))\n",
    "print(kl_div(y, x))\n"
   ]
  },
  {
   "cell_type": "code",
   "execution_count": 19,
   "metadata": {},
   "outputs": [
    {
     "data": {
      "image/png": "[encoded data removed]",
      "text/plain": [
       "<Figure size 432x288 with 1 Axes>"
      ]
     },
     "metadata": {
      "needs_background": "light"
     },
     "output_type": "display_data"
    },
    {
     "name": "stdout",
     "output_type": "stream",
     "text": [
      "1.1659936628831928\n",
      "0.05213516526874544\n",
      "0.03956565138809993\n"
     ]
    }
   ],
   "source": [
    "# Piecewise 1 (is redundant)\n",
    "x = []\n",
    "y = []\n",
    "for i in range(5000):\n",
    "    tmp = random.random()\n",
    "    x.append(tmp+ np.random.normal(0, 0.1))\n",
    "    y.append(1 - 2 * tmp + np.random.normal(0, 0.1))\n",
    "for i in range(5000):\n",
    "    tmp = random.random()\n",
    "    x.append(-1 * tmp+ np.random.normal(0, 0.1))\n",
    "    y.append(1 - 2 * tmp + np.random.normal(0, 0.1))\n",
    "plot.plot(x, y, \"bo\")\n",
    "plot.show()\n",
    "print(mutual_info(x, y))\n",
    "print(kl_div(x, y))\n",
    "print(kl_div(y, x))"
   ]
  },
  {
   "cell_type": "code",
   "execution_count": 28,
   "metadata": {},
   "outputs": [
    {
     "data": {
      "image/png": "[encoded data removed]",
      "text/plain": [
       "<Figure size 432x288 with 1 Axes>"
      ]
     },
     "metadata": {
      "needs_background": "light"
     },
     "output_type": "display_data"
    },
    {
     "name": "stdout",
     "output_type": "stream",
     "text": [
      "1.5103880175000293\n",
      "15.626751520429163\n",
      "16.612345956725868\n",
      "1.3224119208201826\n",
      "1.4574169947471958\n"
     ]
    }
   ],
   "source": [
    "# Piecewise 2 (is NOT redundant)\n",
    "x = []\n",
    "y = []\n",
    "for i in range(200):\n",
    "    tmp = random.random()\n",
    "    x.append(2 + np.random.normal(0, 0.1))\n",
    "    y.append(2 + np.random.normal(0, 0.1))\n",
    "for i in range(200):\n",
    "    tmp = random.random()\n",
    "    x.append(1 + np.random.normal(0, 0.1))\n",
    "    y.append(1 + np.random.normal(0, 0.1))\n",
    "for i in range(200):\n",
    "    tmp = random.random()\n",
    "    x.append(0 + np.random.normal(0, 0.1))\n",
    "    y.append(0 + np.random.normal(0, 0.1))\n",
    "for i in range(200):\n",
    "    tmp = random.random()\n",
    "    x.append(1 + np.random.normal(0, 0.1))\n",
    "    y.append(-1 + np.random.normal(0, 0.1))\n",
    "for i in range(200):\n",
    "    tmp = random.random()\n",
    "    x.append(2 + np.random.normal(0, 0.1))\n",
    "    y.append(-2 + np.random.normal(0, 0.1))\n",
    "plot.plot(x, y, \"bo\")\n",
    "plot.show()\n",
    "print(mutual_info(x, y))\n",
    "print(test_info(x, y))\n",
    "print(test_info(y, x))\n",
    "print(kl_div(x, y))\n",
    "print(kl_div(y, x))"
   ]
  }
 ],
 "metadata": {
  "kernelspec": {
   "display_name": "Python 3",
   "language": "python",
   "name": "python3"
  },
  "language_info": {
   "codemirror_mode": {
    "name": "ipython",
    "version": 3
   },
   "file_extension": ".py",
   "mimetype": "text/x-python",
   "name": "python",
   "nbconvert_exporter": "python",
   "pygments_lexer": "ipython3",
   "version": "3.7.1"
  }
 },
 "nbformat": 4,
 "nbformat_minor": 2
}
