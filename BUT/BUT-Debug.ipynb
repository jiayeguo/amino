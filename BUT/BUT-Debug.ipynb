{
 "cells": [
  {
   "cell_type": "code",
   "execution_count": 1,
   "metadata": {
    "scrolled": true
   },
   "outputs": [],
   "source": [
    "import numpy as np\n",
    "import matplotlib.pyplot as plt\n",
    "import random\n",
    "import copy\n",
    "import re"
   ]
  },
  {
   "cell_type": "code",
   "execution_count": 2,
   "metadata": {
    "scrolled": true
   },
   "outputs": [],
   "source": [
    "class OrderParameter:\n",
    "\n",
    "    # name should be unique to the Order Parameter being defined\n",
    "    # In other words for every possible pair of OP's x and y, (x.name != y.name) must be true\n",
    "    def __init__(self, name, traj):\n",
    "        self.name = name\n",
    "        self.traj = traj\n",
    "        \n",
    "    def __eq__(self, other):\n",
    "        return self.name == other.name\n",
    "    \n",
    "    def __hash__(self):\n",
    "        return hash(self.name)\n",
    "        \n",
    "    def __str__(self):\n",
    "        return str(self.name)"
   ]
  },
  {
   "cell_type": "code",
   "execution_count": 3,
   "metadata": {},
   "outputs": [],
   "source": [
    "def distortion(centers, ops, mut):\n",
    "    dis = 0.0\n",
    "    for i in ops:\n",
    "        min_val = np.inf\n",
    "        for j in centers:\n",
    "            tmp = mut.iqr(i, j)\n",
    "            if tmp < min_val:\n",
    "                min_val = tmp\n",
    "        dis = dis + (min_val * min_val)\n",
    "    return 1 + (dis ** (0.5))"
   ]
  },
  {
   "cell_type": "code",
   "execution_count": 4,
   "metadata": {},
   "outputs": [],
   "source": [
    "def arithmetic_mean(centers, ops, mut):\n",
    "    mean = 0.0\n",
    "    for i in ops:\n",
    "        min_val = np.inf\n",
    "        for j in centers:\n",
    "            tmp = mut.iqr(i, j)\n",
    "            if tmp < min_val:\n",
    "                min_val = tmp\n",
    "        mean = mean + min_val\n",
    "    return (mean / (len(ops)))"
   ]
  },
  {
   "cell_type": "code",
   "execution_count": 5,
   "metadata": {},
   "outputs": [],
   "source": [
    "def geometric_mean(centers, ops, mut):\n",
    "    mean = 1.0\n",
    "    for i in ops:\n",
    "        min_val = np.inf\n",
    "        for j in centers:\n",
    "            tmp = mut.iqr(i, j)\n",
    "            if tmp < min_val:\n",
    "                min_val = tmp\n",
    "        mean = mean * (min_val ** (1.0 / len(ops)))\n",
    "    return mean"
   ]
  },
  {
   "cell_type": "code",
   "execution_count": 6,
   "metadata": {
    "scrolled": true
   },
   "outputs": [],
   "source": [
    "class DissimilarityMatrix:\n",
    "\n",
    "    def __init__(self, max_OPs, mut):\n",
    "        self.max_OPs = max_OPs\n",
    "        self.matrix = [[] for i in range(max_OPs)]\n",
    "        self.mut = mut\n",
    "        self.OPs = []\n",
    "\n",
    "    def add_OP(self, OP):\n",
    "        if len(self.OPs) == self.max_OPs:\n",
    "            mut_info = []\n",
    "            existing = []\n",
    "            for i in range(len(self.OPs)):\n",
    "                mut_info.append(self.mut.iqr(self.OPs[i], OP))\n",
    "                product = 1\n",
    "                for j in range(len(self.OPs)):\n",
    "                    if not i == j:\n",
    "                        product = product * self.matrix[i][j]\n",
    "                existing.append(product)\n",
    "            update = False\n",
    "            difference = None\n",
    "            for i in range(len(self.OPs)):\n",
    "                candidate_info = 1\n",
    "                for j in range(len(self.OPs)):\n",
    "                    if not i == j:\n",
    "                        candidate_info = candidate_info * mut_info[j]\n",
    "                if candidate_info > existing[i]:\n",
    "                    update = True\n",
    "                    if difference == None:\n",
    "                        difference = candidate_info - existing[i]\n",
    "                        old_OP = i\n",
    "                    else:\n",
    "                        if (candidate_info - existing[i]) > difference:\n",
    "                            difference = candidate_info - existing[i]\n",
    "                            old_OP = i\n",
    "            if update == True:\n",
    "                mut_info[old_OP] = self.mut.iqr(OP, OP)\n",
    "                self.matrix[old_OP] = mut_info\n",
    "                self.OPs[old_OP] = OP\n",
    "                for i in range(len(self.OPs)):\n",
    "                    self.matrix[i][old_OP] = mut_info[i]\n",
    "        else:\n",
    "            for i in range(len(self.OPs)):\n",
    "                mut_info = self.mut.iqr(OP, self.OPs[i])\n",
    "                self.matrix[i].append(mut_info)\n",
    "                self.matrix[len(self.OPs)].append(mut_info)\n",
    "            self.matrix[len(self.OPs)].append(self.mut.iqr(OP, OP))\n",
    "            self.OPs.append(OP)\n",
    "        \n",
    "    def reduce(self):\n",
    "        min_val = 10\n",
    "        index = -1\n",
    "        for i in range(len(self.matrix)):\n",
    "            product = 1\n",
    "            for j in range(len(self.matrix[i])):\n",
    "                if not i == j:\n",
    "                    product = product * self.matrix[i][j]\n",
    "            if product < min_val:\n",
    "                index = i\n",
    "                min_val = product\n",
    "        self.matrix.pop(index)\n",
    "        for i in range(len(self.matrix)):\n",
    "            self.matrix[i].pop(index)\n",
    "        self.OPs.pop(index)\n",
    "        \n",
    "    def min_product(self):\n",
    "        min_val = 10\n",
    "        for i in range(len(self.matrix)):\n",
    "            product = 1\n",
    "            for j in range(len(self.matrix[i])):\n",
    "                if not i == j:\n",
    "                    product = product * self.matrix[i][j]\n",
    "            if product < min_val:\n",
    "                min_val = product\n",
    "        return min_val\n",
    "    \n",
    "    def get_OPs(self):\n",
    "        return self.OPs\n",
    "    \n",
    "    def __str__(self):\n",
    "        output = \"\"\n",
    "        output = output + \"OPs:\\n\"\n",
    "        for i in self.OPs:\n",
    "            output = output + str(i) + \"\\n\"\n",
    "        output = output + \"\\nMatrix:\\n\"\n",
    "        for i in self.matrix:\n",
    "            for j in i:\n",
    "                output = output + str(j) + \" \"\n",
    "            output = output + \"\\n\"\n",
    "        return output\n",
    "                "
   ]
  },
  {
   "cell_type": "code",
   "execution_count": 7,
   "metadata": {
    "scrolled": true
   },
   "outputs": [],
   "source": [
    "def d1_bin(x, bins = 80):\n",
    "\n",
    "    min_val = np.amin(x)\n",
    "    max_val = np.amax(x)\n",
    "    span = max_val - min_val\n",
    "\n",
    "    p_x = [0.0 for i in range(bins)]\n",
    "\n",
    "    for i in x:\n",
    "        bin_num = (int) (bins * (i - min_val) / span)\n",
    "        if bin_num == bins:\n",
    "            bin_num -= 1\n",
    "        p_x[bin_num] += 1.0 / len(x)\n",
    "\n",
    "    return p_x"
   ]
  },
  {
   "cell_type": "code",
   "execution_count": 8,
   "metadata": {
    "scrolled": true
   },
   "outputs": [],
   "source": [
    "def d2_bin(x, y, bins = 80):\n",
    "\n",
    "    if len(x) != len(y):\n",
    "        raise Exception(\"Order parameter lists are of different size.\")\n",
    "\n",
    "    min_x = np.amin(x)\n",
    "    max_x = np.amax(x)\n",
    "    span_x = max_x - min_x\n",
    "\n",
    "    min_y = np.amin(y)\n",
    "    max_y = np.amax(y)\n",
    "    span_y = max_y - min_y\n",
    "\n",
    "    p_xy = [[0.0 for i in range(bins)] for j in range(bins)]\n",
    "\n",
    "    for i in range(len(x)):\n",
    "        bin_x = (int) (bins * (x[i] - min_x) / span_x)\n",
    "        bin_y = (int) (bins * (y[i] - min_y) / span_y)\n",
    "        if bin_x == bins:\n",
    "            bin_x -= 1\n",
    "        if bin_y == bins:\n",
    "            bin_y -= 1\n",
    "        p_xy[bin_x][bin_y] += 1.0 / len(x)\n",
    "\n",
    "    return p_xy"
   ]
  },
  {
   "cell_type": "code",
   "execution_count": 9,
   "metadata": {
    "scrolled": true
   },
   "outputs": [],
   "source": [
    "class Memoizer:\n",
    "    \n",
    "    def __init__(self):\n",
    "        self.memo = {}\n",
    "        self.bins = 80\n",
    "        \n",
    "    def iqr(self, OP1, OP2):\n",
    "        index = str(OP1.name) + \" \" + str(OP2.name)\n",
    "        if index in self.memo:\n",
    "            return self.memo[index]\n",
    "        else:\n",
    "            x = OP1.traj\n",
    "            y = OP2.traj\n",
    "            p_x = d1_bin(x, self.bins)\n",
    "            p_y = d1_bin(y, self.bins)\n",
    "            p_xy = d2_bin(x, y, self.bins)\n",
    "\n",
    "            info = 0\n",
    "            entropy = 0\n",
    "\n",
    "            for i in range(len(p_x)):\n",
    "                for j in range(len(p_y)):\n",
    "                    if p_xy[i][j] != 0:\n",
    "                        entropy -= p_xy[i][j] * np.log(p_xy[i][j])\n",
    "                        info += p_xy[i][j] * np.log(p_xy[i][j] / (p_x[i] * p_y[j]))\n",
    "\n",
    "            if ((1 - (info / entropy)) < 0):\n",
    "                output = 0.0\n",
    "            else:\n",
    "                output = (1 - (info / entropy))\n",
    "            self.memo[index] = output\n",
    "            return output\n",
    "    \n",
    "    def __str__(self):\n",
    "        print(len(self.memo))"
   ]
  },
  {
   "cell_type": "code",
   "execution_count": 10,
   "metadata": {
    "scrolled": true
   },
   "outputs": [],
   "source": [
    "def grouping(new_OPs, all_OPs, mut):\n",
    "    groups = [[] for i in range(len(new_OPs))]\n",
    "    for OP in all_OPs:\n",
    "        group = 0\n",
    "        for i in range(len(new_OPs)):\n",
    "            tmp = mut.iqr(OP, new_OPs[i])\n",
    "            if tmp < mut.iqr(OP, new_OPs[group]):\n",
    "                group = i\n",
    "        groups[group].append(OP)\n",
    "    return groups"
   ]
  },
  {
   "cell_type": "code",
   "execution_count": 11,
   "metadata": {
    "scrolled": true
   },
   "outputs": [],
   "source": [
    "def group_evaluation(OPs, mut):\n",
    "    \n",
    "    center = OPs[0]\n",
    "    min_distortion = distortion([OPs[0]], OPs, mut)\n",
    "    \n",
    "    for i in OPs:\n",
    "        tmp = distortion([i], OPs, mut)\n",
    "        if tmp < min_distortion:\n",
    "            center = i\n",
    "            min_distortion = tmp\n",
    "\n",
    "    return center"
   ]
  },
  {
   "cell_type": "code",
   "execution_count": 12,
   "metadata": {},
   "outputs": [],
   "source": [
    "def cluster(ops, seeds, mut):\n",
    "    \n",
    "    old_centers = []\n",
    "    centers = copy.deepcopy(seeds)\n",
    "    \n",
    "    while (set(centers) != set(old_centers)):\n",
    "        \n",
    "        old_centers = copy.deepcopy(centers)\n",
    "        centers = []\n",
    "        groups = grouping(old_centers, ops, mut)\n",
    "        \n",
    "        for i in range(len(groups)):\n",
    "            result = group_evaluation(groups[i], mut)\n",
    "            centers.append(result)\n",
    "\n",
    "    return centers\n"
   ]
  },
  {
   "cell_type": "code",
   "execution_count": 13,
   "metadata": {
    "scrolled": true
   },
   "outputs": [],
   "source": [
    "def find_ops(old_ops, max_outputs):\n",
    "    \n",
    "    mut = Memoizer()\n",
    "    matrix = DissimilarityMatrix(max_outputs, mut)\n",
    "    \n",
    "    for i in old_ops:\n",
    "        matrix.add_OP(i)\n",
    "        \n",
    "    for i in old_ops[::-1]:\n",
    "        matrix.add_OP(i)\n",
    "    \n",
    "    tmp = copy.deepcopy(matrix)\n",
    "    distortion_array = []\n",
    "    num_array = []\n",
    "    str_num_array = []\n",
    "\n",
    "    while (len(tmp.OPs) > 0):\n",
    "        num_array.append(len(tmp.OPs))\n",
    "        str_num_array.append(str(len(tmp.OPs)))\n",
    "        seed = []\n",
    "        for i in tmp.OPs:\n",
    "            seed.append(i)\n",
    "        tmp_ops = cluster(old_ops, seed, mut)\n",
    "        distortion_array.append(distortion(tmp_ops, old_ops, mut))\n",
    "        tmp.reduce()\n",
    "    \n",
    "    plt.plot(str_num_array, distortion_array)\n",
    "    plt.xlabel(\"Number of OPs\")\n",
    "    plt.ylabel(\"Distortion\")\n",
    "    plt.show()\n",
    "    \n",
    "    jumps = []\n",
    "    \n",
    "    for dim in range(1,6):\n",
    "        neg_expo = np.array(distortion_array) ** (-0.5 * dim)\n",
    "        plt.plot(str_num_array, neg_expo, label=str(-0.5 * dim))\n",
    "        local = []\n",
    "        for j in range(len(neg_expo) - 1):\n",
    "            local.append(neg_expo[j] - neg_expo[j + 1])\n",
    "        jumps.append(local)\n",
    "    \n",
    "    plt.xlabel(\"Number of Order Parameters\")\n",
    "    plt.ylabel(\"Distortion with Neg. Expo\")\n",
    "    plt.legend()\n",
    "    plt.show()\n",
    "    \n",
    "    jump_num_array = []\n",
    "    for i in range(len(str_num_array) - 1):\n",
    "        jump_num_array.append(str_num_array[i])\n",
    "        \n",
    "    for i in range(len(jumps)):\n",
    "        plt.plot(jump_num_array, jumps[i], label=str(-0.5 * (i + 1)))\n",
    "        \n",
    "    plt.xlabel(\"Number of Order Parameters\")\n",
    "    plt.ylabel(\"Jump in Distortion with Neg. Expo\")\n",
    "    plt.legend()\n",
    "    plt.show()\n",
    "    \n",
    "    neg_expo = np.array(distortion_array) ** (-0.5)\n",
    "    \n",
    "    jumps = []\n",
    "    \n",
    "    for i in range(len(neg_expo) - 1):\n",
    "        jumps.append(neg_expo[i] - neg_expo[i + 1])\n",
    "    \n",
    "    min_index = 0\n",
    "    for i in range(len(jumps)):\n",
    "        if jumps[i] > jumps[min_index]:\n",
    "            min_index = i\n",
    "    \n",
    "    while (len(matrix.OPs) > num_array[min_index]):\n",
    "        matrix.reduce()\n",
    "        \n",
    "    return cluster(old_ops, matrix.OPs, mut)\n"
   ]
  },
  {
   "cell_type": "code",
   "execution_count": 14,
   "metadata": {},
   "outputs": [],
   "source": [
    "def find_wells(prob):\n",
    "\n",
    "    energy = []\n",
    "    for i in (range(len(prob))):\n",
    "        if prob[i] == 0:\n",
    "            energy.append(np.inf)\n",
    "        else:\n",
    "            energy.append(-1 * np.log(prob[i]))\n",
    "\n",
    "    wells = 0\n",
    "    max = np.inf\n",
    "    min = np.inf\n",
    "    d = 1\n",
    "    i = 0\n",
    "    for x in energy:\n",
    "        if x > max:\n",
    "            max = x\n",
    "            if (max - min > 1):\n",
    "                min = x\n",
    "                d = 1\n",
    "        elif x < min:\n",
    "            min = x\n",
    "            if (max - min > 1):\n",
    "                if d == 1:\n",
    "                    wells = wells + 1\n",
    "                max = x\n",
    "                d = -1\n",
    "        i = i + 1\n",
    "\n",
    "    return wells"
   ]
  },
  {
   "cell_type": "code",
   "execution_count": 15,
   "metadata": {},
   "outputs": [],
   "source": [
    "colvar = open(\"data/BOUND_COLVAR\")\n",
    "split = colvar.readline().split()\n",
    "names = []\n",
    "trajs = {}\n",
    "\n",
    "for i in range(3, len(split)):\n",
    "    names.append(split[i])\n",
    "    trajs[split[i]] = []\n",
    "    \n",
    "for line in colvar:\n",
    "    timestep = line.split()\n",
    "    for i in range(len(timestep) - 1):\n",
    "        trajs[names[i]].append(float(timestep[i + 1]))\n",
    "\n",
    "all_ops = []\n",
    "    \n",
    "for i in names:\n",
    "    all_ops.append(OrderParameter(i, trajs[i]))"
   ]
  },
  {
   "cell_type": "code",
   "execution_count": 16,
   "metadata": {},
   "outputs": [
    {
     "name": "stdout",
     "output_type": "stream",
     "text": [
      "428\n"
     ]
    },
    {
     "data": {
      "image/png": "[encoded data removed]",
      "text/plain": [
       "<Figure size 432x288 with 1 Axes>"
      ]
     },
     "metadata": {
      "needs_background": "light"
     },
     "output_type": "display_data"
    },
    {
     "data": {
      "image/png": "[encoded data removed]",
      "text/plain": [
       "<Figure size 432x288 with 1 Axes>"
      ]
     },
     "metadata": {
      "needs_background": "light"
     },
     "output_type": "display_data"
    },
    {
     "data": {
      "image/png": "[encoded data removed]",
      "text/plain": [
       "<Figure size 432x288 with 1 Axes>"
      ]
     },
     "metadata": {
      "needs_background": "light"
     },
     "output_type": "display_data"
    },
    {
     "name": "stdout",
     "output_type": "stream",
     "text": [
      "d575_1667\n",
      "d327_1664\n",
      "d1328_1666\n",
      "d960_1667\n",
      "d134_1666\n",
      "d1238_1664\n",
      "d1321_1667\n",
      "d1631_1666\n"
     ]
    },
    {
     "data": {
      "text/plain": [
       "'filename = str(counter) + \"bin.dat\"\\nf = open(filename, \"w+\")\\n    \\ndis_array = []\\nfor i in final_filter_ops:\\n    dis_array.append(i.name)\\n    x = re.search(\"d(\\\\d+)_(\\\\d+)\", i.name)\\n    f.write(i.name + \": DISTANCE ATOMS=\" + x.group(1) + \",\" + x.group(2) + \"\\n\")\\n    \\nf.write(\"PRINT ARG=\")\\nfor i in range(len(dis_array)):\\n    f.write(dis_array[i])\\n    if i < (len(dis_array) - 1):\\n        f.write(\",\")\\nf.write(\" FILE=\" + str(counter) + \"COLVAR\")\\nf.close()'"
      ]
     },
     "execution_count": 16,
     "metadata": {},
     "output_type": "execute_result"
    }
   ],
   "source": [
    "print(len(all_ops))\n",
    "\n",
    "final_ops = find_ops(all_ops, 30)\n",
    "\n",
    "for i in final_ops:\n",
    "    print(i)\n",
    "\n",
    "'''filename = str(counter) + \"bin.dat\"\n",
    "f = open(filename, \"w+\")\n",
    "    \n",
    "dis_array = []\n",
    "for i in final_filter_ops:\n",
    "    dis_array.append(i.name)\n",
    "    x = re.search(\"d(\\d+)_(\\d+)\", i.name)\n",
    "    f.write(i.name + \": DISTANCE ATOMS=\" + x.group(1) + \",\" + x.group(2) + \"\\n\")\n",
    "    \n",
    "f.write(\"PRINT ARG=\")\n",
    "for i in range(len(dis_array)):\n",
    "    f.write(dis_array[i])\n",
    "    if i < (len(dis_array) - 1):\n",
    "        f.write(\",\")\n",
    "f.write(\" FILE=\" + str(counter) + \"COLVAR\")\n",
    "f.close()'''"
   ]
  },
  {
   "cell_type": "code",
   "execution_count": 17,
   "metadata": {},
   "outputs": [
    {
     "data": {
      "text/plain": [
       "'\\nResults with 1 + distortion\\nAll Order Parameters: 428\\nd921_1665\\nd1076_1665\\nFiltered Order Parameters: 204\\nd1201_1665\\nd575_1665\\nd921_1665\\n'"
      ]
     },
     "execution_count": 17,
     "metadata": {},
     "output_type": "execute_result"
    }
   ],
   "source": [
    "'''\n",
    "Results with 1 + distortion\n",
    "All Order Parameters: 428\n",
    "d575_1667\n",
    "d327_1664\n",
    "d1328_1666\n",
    "d960_1667\n",
    "d134_1666\n",
    "d1238_1664\n",
    "d1321_1667\n",
    "d1631_1666\n",
    "'''"
   ]
  }
 ],
 "metadata": {
  "kernelspec": {
   "display_name": "Python 3",
   "language": "python",
   "name": "python3"
  },
  "language_info": {
   "codemirror_mode": {
    "name": "ipython",
    "version": 3
   },
   "file_extension": ".py",
   "mimetype": "text/x-python",
   "name": "python",
   "nbconvert_exporter": "python",
   "pygments_lexer": "ipython3",
   "version": "3.7.2"
  }
 },
 "nbformat": 4,
 "nbformat_minor": 2
}
