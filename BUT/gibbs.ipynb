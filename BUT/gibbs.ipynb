{
 "cells": [
  {
   "cell_type": "code",
   "execution_count": 24,
   "metadata": {},
   "outputs": [],
   "source": [
    "import numpy as np\n",
    "import matplotlib.pyplot as plt"
   ]
  },
  {
   "cell_type": "code",
   "execution_count": 13,
   "metadata": {},
   "outputs": [
    {
     "ename": "SyntaxError",
     "evalue": "invalid syntax (<ipython-input-13-77ff97b90528>, line 1)",
     "output_type": "error",
     "traceback": [
      "\u001b[0;36m  File \u001b[0;32m\"<ipython-input-13-77ff97b90528>\"\u001b[0;36m, line \u001b[0;32m1\u001b[0m\n\u001b[0;31m    d575_1667: DISTANCE ATOMS=575,1667\u001b[0m\n\u001b[0m                            ^\u001b[0m\n\u001b[0;31mSyntaxError\u001b[0m\u001b[0;31m:\u001b[0m invalid syntax\n"
     ]
    }
   ],
   "source": [
    "d575_1667: DISTANCE ATOMS=575,1667\n",
    "d327_1664: DISTANCE ATOMS=327,1664\n",
    "d1328_1666: DISTANCE ATOMS=1328,1666\n",
    "d960_1667: DISTANCE ATOMS=960,1667\n",
    "d134_1666: DISTANCE ATOMS=134,1666\n",
    "d1238_1664: DISTANCE ATOMS=1238,1664\n",
    "d1321_1667: DISTANCE ATOMS=1321,1667\n",
    "d1631_1666: DISTANCE ATOMS=1631,1666\n",
    "\n",
    "group_TRP: COM ATOMS=919,921,923,926,927,929,931-933,935,937,939,941,942\n",
    "group_BUT: COM ATOMS=1664-1669\n",
    "com_D: DISTANCE ATOMS=group_TRP,group_BUT\n",
    "\n",
    "COMBINE ...\n",
    "LABEL=rc ARG=d575_1667,d327_1664,d1328_1666,d960_1667,d134_1666,d1238_1664,d1321_1667,d1631_1666 COEFFICIENTS=-1.052,-0.932,-0.976,-1.028,-1.053,-0.915,1.081,1.023 PERIODIC=NO\n",
    "... COMBINE\n",
    "\n",
    "METAD BIASFACTOR=15 TEMP=300 ARG=rc SIGMA=0.45 HEIGHT=1.5 PACE=500 LABEL=metad\n",
    "\n",
    "PRINT ARG=com_D,rc,metad.bias STRIDE=1 FILE=BIASED_COLVAR"
   ]
  },
  {
   "cell_type": "code",
   "execution_count": 58,
   "metadata": {},
   "outputs": [],
   "source": [
    "file = open(\"unbiased/su1\")\n",
    "rc = [-1.052,-0.932,-0.976,-1.028,-1.053,-0.915,1.081,1.023]\n",
    "rc_traj = {}\n",
    "for line in file:\n",
    "    vals = line.split()[2:]\n",
    "    temp = [float(i) for i in vals]\n",
    "    time = int(float(line.split()[0]))\n",
    "    rc_val = np.dot(rc, temp)\n",
    "    rc_traj[time] = -1.0 * rc_val\n",
    "file.close()\n",
    "\n",
    "file = open(\"unbiased/su2\")\n",
    "for line in file:\n",
    "    vals = line.split()[2:]\n",
    "    temp = [float(i) for i in vals]\n",
    "    time = int(float(line.split()[0]))\n",
    "    rc_val = np.dot(rc, temp)\n",
    "    rc_traj[time] = -1.0 * rc_val\n",
    "file.close()\n",
    "\n",
    "file = open(\"unbiased/su3\")\n",
    "for line in file:\n",
    "    vals = line.split()[2:]\n",
    "    temp = [float(i) for i in vals]\n",
    "    time = int(float(line.split()[0]))\n",
    "    rc_val = np.dot(rc, temp)\n",
    "    rc_traj[time] = -1.0 * rc_val\n",
    "file.close()\n",
    "\n",
    "rcs = []\n",
    "for i in range(500001):\n",
    "    rcs.append(rc_traj[i])"
   ]
  },
  {
   "cell_type": "code",
   "execution_count": 125,
   "metadata": {},
   "outputs": [
    {
     "name": "stdout",
     "output_type": "stream",
     "text": [
      "500001\n"
     ]
    },
    {
     "data": {
      "image/png": "[encoded data removed]",
      "text/plain": [
       "<Figure size 432x288 with 1 Axes>"
      ]
     },
     "metadata": {
      "needs_background": "light"
     },
     "output_type": "display_data"
    }
   ],
   "source": [
    "print(len(rcs))\n",
    "plt.hist(rcs, bins=30)\n",
    "plt.xlabel(\"\\u03C8\")\n",
    "plt.ylabel(\"Frequency\")\n",
    "plt.show()"
   ]
  },
  {
   "cell_type": "code",
   "execution_count": 109,
   "metadata": {},
   "outputs": [
    {
     "name": "stdout",
     "output_type": "stream",
     "text": [
      "5.748455257700001\n"
     ]
    }
   ],
   "source": [
    "m1 = np.min(rcs)\n",
    "m2 = np.max(rcs)\n",
    "diff = (m2 - m1) / 30\n",
    "cutoff = m1 + 3.0 * diff\n",
    "print(cutoff)\n",
    "bound = 0.0\n",
    "unbound = 0.0\n",
    "count = 0.0\n",
    "diff = []\n",
    "for i in range(500):\n",
    "    for j in range(1000):\n",
    "        if rcs[i*1000 + j] <= cutoff:\n",
    "            bound = bound + 1.0\n",
    "        else:\n",
    "            unbound = unbound + 1.0\n",
    "        count = count + 1.0\n",
    "    bound_g = -2.5 * np.log(bound / count)\n",
    "    unbound_g = -2.5 * np.log(unbound / count)\n",
    "    diff.append(unbound_g - bound_g)\n",
    "# plot in kJ"
   ]
  },
  {
   "cell_type": "code",
   "execution_count": 87,
   "metadata": {},
   "outputs": [],
   "source": [
    "weight = np.load(\"data/weights.npy\")"
   ]
  },
  {
   "cell_type": "code",
   "execution_count": 122,
   "metadata": {},
   "outputs": [
    {
     "name": "stdout",
     "output_type": "stream",
     "text": [
      "499999.998000 -6.242296\n",
      "\n"
     ]
    },
    {
     "data": {
      "image/png": "[encoded data removed]",
      "text/plain": [
       "<Figure size 432x288 with 1 Axes>"
      ]
     },
     "metadata": {
      "needs_background": "light"
     },
     "output_type": "display_data"
    },
    {
     "data": {
      "text/plain": [
       "'500000.000000 -6.242237'"
      ]
     },
     "execution_count": 122,
     "metadata": {},
     "output_type": "execute_result"
    }
   ],
   "source": [
    "file = open(\"data/FULL_BIASED\")\n",
    "counter = 0\n",
    "bound = 0.0\n",
    "unbound = 0.0\n",
    "sum_weights = 0.0\n",
    "bias_rcs = []\n",
    "bias_diff = []\n",
    "for i in range(500):\n",
    "    for j in range(500000):\n",
    "        line = file.readline()\n",
    "        rc = -1.0 * float(line.split()[1])\n",
    "        bias_rcs.append(rc)\n",
    "        if rc <= cutoff:\n",
    "            bound = bound + weight[counter]\n",
    "            sum_weights = sum_weights + weight[counter]\n",
    "        else:\n",
    "            unbound = unbound + weight[counter]\n",
    "            sum_weights = sum_weights + weight[counter]\n",
    "        counter = counter + 1\n",
    "    bound_g = -2.5 * np.log(bound / sum_weights)\n",
    "    unbound_g = -2.5 * np.log(unbound / sum_weights)\n",
    "    bias_diff.append(unbound_g - bound_g)\n",
    "print(line)\n",
    "file.close()\n",
    "plt.plot(diff, label=\"unbiased\")\n",
    "plt.plot(bias_diff, label=\"biased\")\n",
    "plt.xlabel(\"Simulation Time (ns)\")\n",
    "plt.ylabel(\"Gibbs Free Energy of Unbinding (kJ)\")\n",
    "plt.legend()\n",
    "plt.show()\n",
    "\"500000.000000 -6.242237\""
   ]
  }
 ],
 "metadata": {
  "kernelspec": {
   "display_name": "Python 3",
   "language": "python",
   "name": "python3"
  },
  "language_info": {
   "codemirror_mode": {
    "name": "ipython",
    "version": 3
   },
   "file_extension": ".py",
   "mimetype": "text/x-python",
   "name": "python",
   "nbconvert_exporter": "python",
   "pygments_lexer": "ipython3",
   "version": "3.7.4"
  }
 },
 "nbformat": 4,
 "nbformat_minor": 2
}
