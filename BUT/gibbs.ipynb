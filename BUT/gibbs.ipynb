{
 "cells": [
  {
   "cell_type": "code",
   "execution_count": 8,
   "metadata": {},
   "outputs": [],
   "source": [
    "import numpy as np\n",
    "import matplotlib.pyplot as plt"
   ]
  },
  {
   "cell_type": "code",
   "execution_count": 9,
   "metadata": {},
   "outputs": [],
   "source": [
    "file = open(\"unbiased/su1\")\n",
    "rc = [-1.052,-0.932,-0.976,-1.028,-1.053,-0.915,1.081,1.023]\n",
    "rc_traj = {}\n",
    "for line in file:\n",
    "    vals = line.split()[2:]\n",
    "    temp = [float(i) for i in vals]\n",
    "    time = int(float(line.split()[0]))\n",
    "    rc_val = np.dot(rc, temp)\n",
    "    rc_traj[time] = -1.0 * rc_val\n",
    "file.close()\n",
    "\n",
    "file = open(\"unbiased/su2\")\n",
    "for line in file:\n",
    "    vals = line.split()[2:]\n",
    "    temp = [float(i) for i in vals]\n",
    "    time = int(float(line.split()[0]))\n",
    "    rc_val = np.dot(rc, temp)\n",
    "    rc_traj[time] = -1.0 * rc_val\n",
    "file.close()\n",
    "\n",
    "file = open(\"unbiased/su3\")\n",
    "for line in file:\n",
    "    vals = line.split()[2:]\n",
    "    temp = [float(i) for i in vals]\n",
    "    time = int(float(line.split()[0]))\n",
    "    rc_val = np.dot(rc, temp)\n",
    "    rc_traj[time] = -1.0 * rc_val\n",
    "file.close()\n",
    "\n",
    "rcs = []\n",
    "for i in range(500001):\n",
    "    rcs.append(rc_traj[i])"
   ]
  },
  {
   "cell_type": "code",
   "execution_count": 10,
   "metadata": {},
   "outputs": [
    {
     "name": "stdout",
     "output_type": "stream",
     "text": [
      "500001\n"
     ]
    },
    {
     "data": {
      "image/png": "[encoded data removed]",
      "text/plain": [
       "<Figure size 432x288 with 1 Axes>"
      ]
     },
     "metadata": {
      "needs_background": "light"
     },
     "output_type": "display_data"
    }
   ],
   "source": [
    "print(len(rcs))\n",
    "plt.hist(rcs, bins=30)\n",
    "plt.xlabel(\"\\u03C8\")\n",
    "plt.ylabel(\"Frequency\")\n",
    "plt.show()"
   ]
  },
  {
   "cell_type": "code",
   "execution_count": 11,
   "metadata": {},
   "outputs": [
    {
     "name": "stdout",
     "output_type": "stream",
     "text": [
      "5.748455257700001\n"
     ]
    }
   ],
   "source": [
    "m1 = np.min(rcs)\n",
    "m2 = np.max(rcs)\n",
    "diff = (m2 - m1) / 30\n",
    "cutoff = m1 + 3.0 * diff\n",
    "print(cutoff)\n",
    "bound = 0.0\n",
    "unbound = 0.0\n",
    "count = 0.0\n",
    "diff = []\n",
    "for i in range(500):\n",
    "    for j in range(1000):\n",
    "        if rcs[i*1000 + j] <= cutoff:\n",
    "            bound = bound + 1.0\n",
    "        else:\n",
    "            unbound = unbound + 1.0\n",
    "        count = count + 1.0\n",
    "    bound_g = -2.5 * np.log(bound / count)\n",
    "    unbound_g = -2.5 * np.log(unbound / count)\n",
    "    diff.append(bound_g - unbound_g)\n",
    "# plot in kJ"
   ]
  },
  {
   "cell_type": "code",
   "execution_count": 12,
   "metadata": {},
   "outputs": [],
   "source": [
    "weight = np.load(\"data/weights.npy\")"
   ]
  },
  {
   "cell_type": "code",
   "execution_count": 13,
   "metadata": {},
   "outputs": [
    {
     "ename": "KeyboardInterrupt",
     "evalue": "",
     "output_type": "error",
     "traceback": [
      "\u001b[0;31m---------------------------------------------------------------------------\u001b[0m",
      "\u001b[0;31mKeyboardInterrupt\u001b[0m                         Traceback (most recent call last)",
      "\u001b[0;32m<ipython-input-13-54d589a8c349>\u001b[0m in \u001b[0;36m<module>\u001b[0;34m\u001b[0m\n\u001b[1;32m     16\u001b[0m         \u001b[0;32melse\u001b[0m\u001b[0;34m:\u001b[0m\u001b[0;34m\u001b[0m\u001b[0;34m\u001b[0m\u001b[0m\n\u001b[1;32m     17\u001b[0m             \u001b[0munbound\u001b[0m \u001b[0;34m=\u001b[0m \u001b[0munbound\u001b[0m \u001b[0;34m+\u001b[0m \u001b[0mweight\u001b[0m\u001b[0;34m[\u001b[0m\u001b[0mcounter\u001b[0m\u001b[0;34m]\u001b[0m\u001b[0;34m\u001b[0m\u001b[0;34m\u001b[0m\u001b[0m\n\u001b[0;32m---> 18\u001b[0;31m             \u001b[0msum_weights\u001b[0m \u001b[0;34m=\u001b[0m \u001b[0msum_weights\u001b[0m \u001b[0;34m+\u001b[0m \u001b[0mweight\u001b[0m\u001b[0;34m[\u001b[0m\u001b[0mcounter\u001b[0m\u001b[0;34m]\u001b[0m\u001b[0;34m\u001b[0m\u001b[0;34m\u001b[0m\u001b[0m\n\u001b[0m\u001b[1;32m     19\u001b[0m         \u001b[0mcounter\u001b[0m \u001b[0;34m=\u001b[0m \u001b[0mcounter\u001b[0m \u001b[0;34m+\u001b[0m \u001b[0;36m1\u001b[0m\u001b[0;34m\u001b[0m\u001b[0;34m\u001b[0m\u001b[0m\n\u001b[1;32m     20\u001b[0m     \u001b[0mbound_g\u001b[0m \u001b[0;34m=\u001b[0m \u001b[0;34m-\u001b[0m\u001b[0;36m2.5\u001b[0m \u001b[0;34m*\u001b[0m \u001b[0mnp\u001b[0m\u001b[0;34m.\u001b[0m\u001b[0mlog\u001b[0m\u001b[0;34m(\u001b[0m\u001b[0mbound\u001b[0m \u001b[0;34m/\u001b[0m \u001b[0msum_weights\u001b[0m\u001b[0;34m)\u001b[0m\u001b[0;34m\u001b[0m\u001b[0;34m\u001b[0m\u001b[0m\n",
      "\u001b[0;31mKeyboardInterrupt\u001b[0m: "
     ]
    }
   ],
   "source": [
    "file = open(\"data/FULL_BIASED\")\n",
    "counter = 0\n",
    "bound = 0.0\n",
    "unbound = 0.0\n",
    "sum_weights = 0.0\n",
    "bias_rcs = []\n",
    "bias_diff = []\n",
    "for i in range(500):\n",
    "    for j in range(500000):\n",
    "        line = file.readline()\n",
    "        rc = -1.0 * float(line.split()[1])\n",
    "        bias_rcs.append(rc)\n",
    "        if rc <= cutoff:\n",
    "            bound = bound + weight[counter]\n",
    "            sum_weights = sum_weights + weight[counter]\n",
    "        else:\n",
    "            unbound = unbound + weight[counter]\n",
    "            sum_weights = sum_weights + weight[counter]\n",
    "        counter = counter + 1\n",
    "    bound_g = -2.5 * np.log(bound / sum_weights)\n",
    "    unbound_g = -2.5 * np.log(unbound / sum_weights)\n",
    "    bias_diff.append(bound_g - unbound_g)\n",
    "file.close()\n",
    "plt.plot(diff, label=\"unbiased\")\n",
    "plt.plot(bias_diff, label=\"biased\")\n",
    "plt.xlabel(\"Simulation Time (ns)\")\n",
    "plt.ylabel(\"Gibbs Free Energy of Unbinding (kJ)\")\n",
    "plt.legend()\n",
    "plt.show()"
   ]
  },
  {
   "cell_type": "code",
   "execution_count": null,
   "metadata": {},
   "outputs": [],
   "source": [
    "last_biased = bias_diff[len(bias_diff) - 1]\n",
    "biased_low = []\n",
    "biased_last = []\n",
    "biased_high = []\n",
    "for i in range(500):\n",
    "    biased_low.append(last_biased-1.25)\n",
    "    biased_last.append(last_biased)\n",
    "    biased_high.append(last_biased+1.25)\n",
    "    \n",
    "last_ubiased = diff[len(diff) - 1]\n",
    "ubiased_low = []\n",
    "ubiased_last = []\n",
    "ubiased_high = []\n",
    "for i in range(500):\n",
    "    ubiased_low.append(last_ubiased-1.25)\n",
    "    ubiased_last.append(last_ubiased)\n",
    "    ubiased_high.append(last_ubiased+1.25)\n",
    "    \n",
    "plt.plot(diff, label='unbiased')\n",
    "\n",
    "plt.plot(ubiased_low, \"--\", color=\"purple\", alpha=0.4)\n",
    "plt.plot(ubiased_last, \"purple\", alpha=0.8)\n",
    "plt.plot(ubiased_high, \"--\", color=\"purple\", alpha=0.4)\n",
    "\n",
    "plt.plot(bias_diff, label='biased')\n",
    "\n",
    "plt.plot(biased_low, \"r--\", alpha=0.4)\n",
    "plt.plot(biased_last, \"red\", alpha=0.8)\n",
    "plt.plot(biased_high, \"r--\", alpha=0.4)\n",
    "\n",
    "plt.xlabel(\"Simulation Time (ns)\")\n",
    "plt.ylabel(\"$\\Delta G$ (kJ/mol)\")\n",
    "plt.legend()\n",
    "plt.show()"
   ]
  }
 ],
 "metadata": {
  "kernelspec": {
   "display_name": "Python 3",
   "language": "python",
   "name": "python3"
  },
  "language_info": {
   "codemirror_mode": {
    "name": "ipython",
    "version": 3
   },
   "file_extension": ".py",
   "mimetype": "text/x-python",
   "name": "python",
   "nbconvert_exporter": "python",
   "pygments_lexer": "ipython3",
   "version": "3.7.4"
  }
 },
 "nbformat": 4,
 "nbformat_minor": 2
}
